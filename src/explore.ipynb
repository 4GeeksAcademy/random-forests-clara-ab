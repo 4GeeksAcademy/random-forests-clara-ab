{
    "cells": [
        {
            "cell_type": "markdown",
            "metadata": {},
            "source": [
                "# Proyecto Random Forests"
            ]
        },
        {
            "cell_type": "code",
            "execution_count": 108,
            "metadata": {},
            "outputs": [],
            "source": [
                "# Librería para la declaración y uso de Data Frames:\n",
                "import pandas as pd\n",
                "\n",
                "# Librería para generar un modelo de Regresión Lineal: \n",
                "import statsmodels.api as sm\n",
                "\n",
                "# Librería para realizar operaciones matemáticas: \n",
                "import numpy as np\n",
                "\n",
                "# Librería para poder realizar la partición del conjunto de datos:\n",
                "from sklearn.model_selection import train_test_split\n",
                "\n",
                "# Librería para generar un modelo XGBoost:\n",
                "import xgboost as xgb\n",
                "\n",
                "# Librería para calcular el VIF: \n",
                "from statsmodels.stats.outliers_influence import variance_inflation_factor\n",
                "\n",
                "# Librería para visualizar datos estadísticos: \n",
                "import seaborn as sns\n",
                "\n",
                "# Librería para utilizar árboles de decisión clasificadores:\n",
                "from sklearn.tree import DecisionTreeClassifier, plot_tree, export_text\n",
                "\n",
                "# Librería para evaluar el rendimiento de los modelos de Machine Learning:\n",
                "from sklearn.metrics import *\n",
                "\n",
                "# Librería para medir la especificidad:\n",
                "from imblearn.metrics import specificity_score\n",
                "\n",
                "# Librería para utilizar bosques aleatorios clasificadores:\n",
                "from sklearn.ensemble import RandomForestClassifier\n",
                "\n",
                "# Librería para utilizar modelos de optimización de hiperparámetros:\n",
                "from sklearn.model_selection import GridSearchCV, RandomizedSearchCV\n",
                "\n",
                "# Librería para poder obtener valores aleatorios enteros:\n",
                "from scipy.stats import randint"
            ]
        },
        {
            "cell_type": "markdown",
            "metadata": {},
            "source": [
                "## Paso 1 - Lectura de Datos:"
            ]
        },
        {
            "cell_type": "markdown",
            "metadata": {},
            "source": [
                "En primer lugar, es necesario **leer y guardar la información** en una variable para poder empezar a trabajar con ella.\n",
                "\n",
                "Para ello, se ha guaradado el archivo con todos los datos en la ruta: */workspaces/random-forests-clara-ab/data/raw/diabetes.csv* y se ha cargado en un Data Frame:"
            ]
        },
        {
            "cell_type": "code",
            "execution_count": 109,
            "metadata": {},
            "outputs": [
                {
                    "data": {
                        "text/html": [
                            "<div>\n",
                            "<style scoped>\n",
                            "    .dataframe tbody tr th:only-of-type {\n",
                            "        vertical-align: middle;\n",
                            "    }\n",
                            "\n",
                            "    .dataframe tbody tr th {\n",
                            "        vertical-align: top;\n",
                            "    }\n",
                            "\n",
                            "    .dataframe thead th {\n",
                            "        text-align: right;\n",
                            "    }\n",
                            "</style>\n",
                            "<table border=\"1\" class=\"dataframe\">\n",
                            "  <thead>\n",
                            "    <tr style=\"text-align: right;\">\n",
                            "      <th></th>\n",
                            "      <th>Pregnancies</th>\n",
                            "      <th>Glucose</th>\n",
                            "      <th>BloodPressure</th>\n",
                            "      <th>SkinThickness</th>\n",
                            "      <th>Insulin</th>\n",
                            "      <th>BMI</th>\n",
                            "      <th>DiabetesPedigreeFunction</th>\n",
                            "      <th>Age</th>\n",
                            "      <th>Outcome</th>\n",
                            "    </tr>\n",
                            "  </thead>\n",
                            "  <tbody>\n",
                            "    <tr>\n",
                            "      <th>0</th>\n",
                            "      <td>6</td>\n",
                            "      <td>148</td>\n",
                            "      <td>72</td>\n",
                            "      <td>35</td>\n",
                            "      <td>0</td>\n",
                            "      <td>33.6</td>\n",
                            "      <td>0.627</td>\n",
                            "      <td>50</td>\n",
                            "      <td>1</td>\n",
                            "    </tr>\n",
                            "    <tr>\n",
                            "      <th>1</th>\n",
                            "      <td>1</td>\n",
                            "      <td>85</td>\n",
                            "      <td>66</td>\n",
                            "      <td>29</td>\n",
                            "      <td>0</td>\n",
                            "      <td>26.6</td>\n",
                            "      <td>0.351</td>\n",
                            "      <td>31</td>\n",
                            "      <td>0</td>\n",
                            "    </tr>\n",
                            "    <tr>\n",
                            "      <th>2</th>\n",
                            "      <td>8</td>\n",
                            "      <td>183</td>\n",
                            "      <td>64</td>\n",
                            "      <td>0</td>\n",
                            "      <td>0</td>\n",
                            "      <td>23.3</td>\n",
                            "      <td>0.672</td>\n",
                            "      <td>32</td>\n",
                            "      <td>1</td>\n",
                            "    </tr>\n",
                            "    <tr>\n",
                            "      <th>3</th>\n",
                            "      <td>1</td>\n",
                            "      <td>89</td>\n",
                            "      <td>66</td>\n",
                            "      <td>23</td>\n",
                            "      <td>94</td>\n",
                            "      <td>28.1</td>\n",
                            "      <td>0.167</td>\n",
                            "      <td>21</td>\n",
                            "      <td>0</td>\n",
                            "    </tr>\n",
                            "    <tr>\n",
                            "      <th>4</th>\n",
                            "      <td>0</td>\n",
                            "      <td>137</td>\n",
                            "      <td>40</td>\n",
                            "      <td>35</td>\n",
                            "      <td>168</td>\n",
                            "      <td>43.1</td>\n",
                            "      <td>2.288</td>\n",
                            "      <td>33</td>\n",
                            "      <td>1</td>\n",
                            "    </tr>\n",
                            "  </tbody>\n",
                            "</table>\n",
                            "</div>"
                        ],
                        "text/plain": [
                            "   Pregnancies  Glucose  BloodPressure  SkinThickness  Insulin   BMI  \\\n",
                            "0            6      148             72             35        0  33.6   \n",
                            "1            1       85             66             29        0  26.6   \n",
                            "2            8      183             64              0        0  23.3   \n",
                            "3            1       89             66             23       94  28.1   \n",
                            "4            0      137             40             35      168  43.1   \n",
                            "\n",
                            "   DiabetesPedigreeFunction  Age  Outcome  \n",
                            "0                     0.627   50        1  \n",
                            "1                     0.351   31        0  \n",
                            "2                     0.672   32        1  \n",
                            "3                     0.167   21        0  \n",
                            "4                     2.288   33        1  "
                        ]
                    },
                    "execution_count": 109,
                    "metadata": {},
                    "output_type": "execute_result"
                }
            ],
            "source": [
                "# Lectura del CSV con los datos, dada la ruta donde se guarda el archivo:\n",
                "df = pd.read_csv ('/workspaces/random-forests-clara-ab/data/raw/diabetes.csv');\n",
                "\n",
                "# Configuración de pandas para mostrar todas las columnas del DataFrame sin truncarlas al visualizarlo\n",
                "pd.set_option('display.max_columns', None);\n",
                "\n",
                "# Se muestran las 5 primeras filas del Data Frame\n",
                "df.head()"
            ]
        },
        {
            "cell_type": "markdown",
            "metadata": {},
            "source": [
                "Una vez se ha cargado correctamente la información en el Data Frame es interesante evaluar la **cantidad de información que se tiene**. Para ello, se recurre al atributo `.shape` del Data Frame:"
            ]
        },
        {
            "cell_type": "code",
            "execution_count": 110,
            "metadata": {},
            "outputs": [
                {
                    "name": "stdout",
                    "output_type": "stream",
                    "text": [
                        " El conjunto de datos cuenta con información de 768 pacientes con total de 9 características sobre ellos\n"
                    ]
                }
            ],
            "source": [
                "# Se utiliza el atributo shape del Data Frame para conocer cuánta información está cargada:\n",
                "print (f\" El conjunto de datos cuenta con información de {df.shape[0]} pacientes con total de {df.shape[1]} características sobre ellos\");"
            ]
        },
        {
            "cell_type": "markdown",
            "metadata": {},
            "source": [
                "## Paso 2 - Análisis Exploratorio de Datos:"
            ]
        },
        {
            "cell_type": "markdown",
            "metadata": {},
            "source": [
                "Antes de realizar un estudio del modelo tipo **Decision Trees** , es fundamental llevar a acabo un análisis de los datos **para poder identificar** patrones, detectar valores atípicos y evaluar la distribución de las variables para comprender la relación entre ellas.\n",
                "\n",
                "Por este motivo, se van a realizar distintos pasos cuyo objetivo final es **preparar el conjunto de datos** para poder trabajar con ellos. Este EDA no se explicará tan en detalle como se hizo para el proyecto dedicado únicamente a ello pero se recomienda recurrir a él para explicaciones más detalladas:"
            ]
        },
        {
            "cell_type": "markdown",
            "metadata": {},
            "source": [
                "### Paso 2.1 - Análisis de Constantes y Duplicados:"
            ]
        },
        {
            "cell_type": "markdown",
            "metadata": {},
            "source": [
                "Uno de los puntos críticos a la hora de realizar un análisis, es la existencia de **variables / características comunes** a todos los pacientes, dado que sería **información redundante** y no aportaría valor al estudio, es decir, el análisis sería el mismo aunque no estuviesen como variables y, por lo tanto, se podría prescindir de ellas."
            ]
        },
        {
            "cell_type": "code",
            "execution_count": 111,
            "metadata": {},
            "outputs": [
                {
                    "name": "stdout",
                    "output_type": "stream",
                    "text": [
                        " Hay un total de 0 columnas en el Data Frame con un valor constante para todos los pacientes\n",
                        " \n",
                        "Para cada columna del Data Frame, se muestran cuántos valores distintos presentan:\n"
                    ]
                },
                {
                    "data": {
                        "text/plain": [
                            "Pregnancies                  17\n",
                            "Glucose                     136\n",
                            "BloodPressure                47\n",
                            "SkinThickness                51\n",
                            "Insulin                     186\n",
                            "BMI                         248\n",
                            "DiabetesPedigreeFunction    517\n",
                            "Age                          52\n",
                            "Outcome                       2\n",
                            "dtype: int64"
                        ]
                    },
                    "execution_count": 111,
                    "metadata": {},
                    "output_type": "execute_result"
                }
            ],
            "source": [
                "# Se utiliza el método .nunique() para saber la cantidad de columnas con constantes en el Data Frame:\n",
                "print(f\" Hay un total de {(lambda df: (df.nunique() == 1).sum())(df)} columnas en el Data Frame con un valor constante para todos los pacientes\");\n",
                "\n",
                "# Se imprime el conteo de valores distintos en cada columna:\n",
                "print (f\" \\nPara cada columna del Data Frame, se muestran cuántos valores distintos presentan:\");\n",
                "df.nunique()"
            ]
        },
        {
            "cell_type": "markdown",
            "metadata": {},
            "source": [
                "A partir del resultado obtenido, se puede observar que **no hay ninguna constante** en los datos cargados, por lo tanto, no hay que eliminar ninguna columna, de momento.\n",
                "\n",
                "Otro factor determinante a la hora de realizar una limpieza de los datos es detectar si hay **datos repetidos**, aplicado a este caso, si hay **pacientes duplicados**."
            ]
        },
        {
            "cell_type": "code",
            "execution_count": 112,
            "metadata": {},
            "outputs": [
                {
                    "name": "stdout",
                    "output_type": "stream",
                    "text": [
                        " Hay un total de 0 pacientes duplicados.\n"
                    ]
                }
            ],
            "source": [
                "# Se utiliza el método .duplicated() para identificar los clientes repetidos dentro del DataFrame:\n",
                "print(f\" Hay un total de {df.duplicated().sum()} pacientes duplicados.\");"
            ]
        },
        {
            "cell_type": "markdown",
            "metadata": {},
            "source": [
                "Como se puede ver, **no se ha detectado un cliente duplicado** en el conjunto de datos por lo que se puede seguir con el análisis exploratorio de datos. "
            ]
        },
        {
            "cell_type": "markdown",
            "metadata": {},
            "source": [
                "## Paso 2.2 - Análisis Estadístico:"
            ]
        },
        {
            "cell_type": "markdown",
            "metadata": {},
            "source": [
                "Una vez ya se ha realizado un estudio básico para realizar una primera limpieza de datos, a partir del análisis de constantes y duplicados, se puede pasar a **observar estadísticamente la información** y decidir qué datos son poco relevantes.\n",
                "\n",
                "Para ello, en primer lugar, se va a recurrir al método `.describe()`  para tener un **resumen estadístico** de todos los datos, tanto los categóricos como los numéricos.\n",
                "\n",
                "En este resumen, los puntos más interesantes son, por un lado, los **mínimos y los máximos** en las variables numéricas y el **top value y su frecuencia** para las variables categóricas."
            ]
        },
        {
            "cell_type": "code",
            "execution_count": 113,
            "metadata": {},
            "outputs": [
                {
                    "data": {
                        "text/html": [
                            "<div>\n",
                            "<style scoped>\n",
                            "    .dataframe tbody tr th:only-of-type {\n",
                            "        vertical-align: middle;\n",
                            "    }\n",
                            "\n",
                            "    .dataframe tbody tr th {\n",
                            "        vertical-align: top;\n",
                            "    }\n",
                            "\n",
                            "    .dataframe thead th {\n",
                            "        text-align: right;\n",
                            "    }\n",
                            "</style>\n",
                            "<table border=\"1\" class=\"dataframe\">\n",
                            "  <thead>\n",
                            "    <tr style=\"text-align: right;\">\n",
                            "      <th></th>\n",
                            "      <th>count</th>\n",
                            "      <th>mean</th>\n",
                            "      <th>std</th>\n",
                            "      <th>min</th>\n",
                            "      <th>25%</th>\n",
                            "      <th>50%</th>\n",
                            "      <th>75%</th>\n",
                            "      <th>max</th>\n",
                            "    </tr>\n",
                            "  </thead>\n",
                            "  <tbody>\n",
                            "    <tr>\n",
                            "      <th>Pregnancies</th>\n",
                            "      <td>768.0</td>\n",
                            "      <td>3.845052</td>\n",
                            "      <td>3.369578</td>\n",
                            "      <td>0.000</td>\n",
                            "      <td>1.00000</td>\n",
                            "      <td>3.0000</td>\n",
                            "      <td>6.00000</td>\n",
                            "      <td>17.00</td>\n",
                            "    </tr>\n",
                            "    <tr>\n",
                            "      <th>Glucose</th>\n",
                            "      <td>768.0</td>\n",
                            "      <td>120.894531</td>\n",
                            "      <td>31.972618</td>\n",
                            "      <td>0.000</td>\n",
                            "      <td>99.00000</td>\n",
                            "      <td>117.0000</td>\n",
                            "      <td>140.25000</td>\n",
                            "      <td>199.00</td>\n",
                            "    </tr>\n",
                            "    <tr>\n",
                            "      <th>BloodPressure</th>\n",
                            "      <td>768.0</td>\n",
                            "      <td>69.105469</td>\n",
                            "      <td>19.355807</td>\n",
                            "      <td>0.000</td>\n",
                            "      <td>62.00000</td>\n",
                            "      <td>72.0000</td>\n",
                            "      <td>80.00000</td>\n",
                            "      <td>122.00</td>\n",
                            "    </tr>\n",
                            "    <tr>\n",
                            "      <th>SkinThickness</th>\n",
                            "      <td>768.0</td>\n",
                            "      <td>20.536458</td>\n",
                            "      <td>15.952218</td>\n",
                            "      <td>0.000</td>\n",
                            "      <td>0.00000</td>\n",
                            "      <td>23.0000</td>\n",
                            "      <td>32.00000</td>\n",
                            "      <td>99.00</td>\n",
                            "    </tr>\n",
                            "    <tr>\n",
                            "      <th>Insulin</th>\n",
                            "      <td>768.0</td>\n",
                            "      <td>79.799479</td>\n",
                            "      <td>115.244002</td>\n",
                            "      <td>0.000</td>\n",
                            "      <td>0.00000</td>\n",
                            "      <td>30.5000</td>\n",
                            "      <td>127.25000</td>\n",
                            "      <td>846.00</td>\n",
                            "    </tr>\n",
                            "    <tr>\n",
                            "      <th>BMI</th>\n",
                            "      <td>768.0</td>\n",
                            "      <td>31.992578</td>\n",
                            "      <td>7.884160</td>\n",
                            "      <td>0.000</td>\n",
                            "      <td>27.30000</td>\n",
                            "      <td>32.0000</td>\n",
                            "      <td>36.60000</td>\n",
                            "      <td>67.10</td>\n",
                            "    </tr>\n",
                            "    <tr>\n",
                            "      <th>DiabetesPedigreeFunction</th>\n",
                            "      <td>768.0</td>\n",
                            "      <td>0.471876</td>\n",
                            "      <td>0.331329</td>\n",
                            "      <td>0.078</td>\n",
                            "      <td>0.24375</td>\n",
                            "      <td>0.3725</td>\n",
                            "      <td>0.62625</td>\n",
                            "      <td>2.42</td>\n",
                            "    </tr>\n",
                            "    <tr>\n",
                            "      <th>Age</th>\n",
                            "      <td>768.0</td>\n",
                            "      <td>33.240885</td>\n",
                            "      <td>11.760232</td>\n",
                            "      <td>21.000</td>\n",
                            "      <td>24.00000</td>\n",
                            "      <td>29.0000</td>\n",
                            "      <td>41.00000</td>\n",
                            "      <td>81.00</td>\n",
                            "    </tr>\n",
                            "    <tr>\n",
                            "      <th>Outcome</th>\n",
                            "      <td>768.0</td>\n",
                            "      <td>0.348958</td>\n",
                            "      <td>0.476951</td>\n",
                            "      <td>0.000</td>\n",
                            "      <td>0.00000</td>\n",
                            "      <td>0.0000</td>\n",
                            "      <td>1.00000</td>\n",
                            "      <td>1.00</td>\n",
                            "    </tr>\n",
                            "  </tbody>\n",
                            "</table>\n",
                            "</div>"
                        ],
                        "text/plain": [
                            "                          count        mean         std     min       25%  \\\n",
                            "Pregnancies               768.0    3.845052    3.369578   0.000   1.00000   \n",
                            "Glucose                   768.0  120.894531   31.972618   0.000  99.00000   \n",
                            "BloodPressure             768.0   69.105469   19.355807   0.000  62.00000   \n",
                            "SkinThickness             768.0   20.536458   15.952218   0.000   0.00000   \n",
                            "Insulin                   768.0   79.799479  115.244002   0.000   0.00000   \n",
                            "BMI                       768.0   31.992578    7.884160   0.000  27.30000   \n",
                            "DiabetesPedigreeFunction  768.0    0.471876    0.331329   0.078   0.24375   \n",
                            "Age                       768.0   33.240885   11.760232  21.000  24.00000   \n",
                            "Outcome                   768.0    0.348958    0.476951   0.000   0.00000   \n",
                            "\n",
                            "                               50%        75%     max  \n",
                            "Pregnancies                 3.0000    6.00000   17.00  \n",
                            "Glucose                   117.0000  140.25000  199.00  \n",
                            "BloodPressure              72.0000   80.00000  122.00  \n",
                            "SkinThickness              23.0000   32.00000   99.00  \n",
                            "Insulin                    30.5000  127.25000  846.00  \n",
                            "BMI                        32.0000   36.60000   67.10  \n",
                            "DiabetesPedigreeFunction    0.3725    0.62625    2.42  \n",
                            "Age                        29.0000   41.00000   81.00  \n",
                            "Outcome                     0.0000    1.00000    1.00  "
                        ]
                    },
                    "execution_count": 113,
                    "metadata": {},
                    "output_type": "execute_result"
                }
            ],
            "source": [
                "# Descripción estadística básica de todas las columnas del DataFrame:\n",
                "df.describe(include='all').T # Se traspone para ver de forma más clara los datos"
            ]
        },
        {
            "cell_type": "markdown",
            "metadata": {},
            "source": [
                "En este caso, interesa principalmente **desechar pacientes cuya información aportada no fuese** *lógica*. Teniendo en cuenta el conjunto de datos, se puede ver como la mayoría de los **parámetros biométricos tienen su mínimo en 0**, algo imposible para estos parámetros. Por este motivo, lo primero que se ha de realizar es e**liminar los pacientes que presenten estos datos** en tanto que se trata de datos erróneos. "
            ]
        },
        {
            "cell_type": "code",
            "execution_count": 114,
            "metadata": {},
            "outputs": [],
            "source": [
                "# El Data Frame se filtra guardando solo las filas mayores de 0 en las columnas de parámetros biométricos:\n",
                "df_clean = df[(df['Glucose'] > 0) & \n",
                "        (df['BloodPressure'] > 0) &\n",
                "        (df['SkinThickness'] > 0) &\n",
                "        (df['Insulin'] > 0) &\n",
                "        (df['BMI'] > 0)];"
            ]
        },
        {
            "cell_type": "markdown",
            "metadata": {},
            "source": [
                "Por otro lado, simplemente cabe destacar el máximo en la variable *número de embarazos* que es un total de **17**. De momento no se va a desechar en tanto que, pese a ser un dato muy elevado, es posible. "
            ]
        },
        {
            "cell_type": "markdown",
            "metadata": {},
            "source": [
                "### Paso 2.3 - Análisis de Nulos: "
            ]
        },
        {
            "cell_type": "markdown",
            "metadata": {},
            "source": [
                "Uno de los problemas que es habitual encontrarse en el análisis de datos es **variables sin valor**, nulos.\n",
                "\n",
                "Es por ello que se deben tratar estos casos para o bien **eliminarlos** o bien **rellenarlos con un valor coherente** para cada uno.\n",
                "\n",
                "En primer lugar, para realizar el análisis, se va a obtener el **porcentaje de pacientes que presentan al menos un nulo** en alguna de las características."
            ]
        },
        {
            "cell_type": "code",
            "execution_count": 115,
            "metadata": {},
            "outputs": [
                {
                    "name": "stdout",
                    "output_type": "stream",
                    "text": [
                        " El 0.0 % de los pacientes presenta, al menos, un valor nulo en alguna de sus características descriptivas\n"
                    ]
                }
            ],
            "source": [
                "# Se comprueba el porcentaje de clientes que presentan al menos un valor nulo:\n",
                "print(f\" El {round(df_clean.isnull().any(axis=1).mean()*100, 2)} % de los pacientes presenta, al menos, un valor nulo en alguna de sus características descriptivas\");"
            ]
        },
        {
            "cell_type": "markdown",
            "metadata": {},
            "source": [
                "Se comprueba que **no hay ningún valor faltante en nuestro conjunto de datos**, por lo que no se tiene por qué inferir información en ningún caso."
            ]
        },
        {
            "cell_type": "markdown",
            "metadata": {},
            "source": [
                "### Paso 2.4 - Análisis de Observaciones Influyentes:"
            ]
        },
        {
            "cell_type": "markdown",
            "metadata": {},
            "source": [
                "En este paso se va a proceder a realizar uno de los puntos clave en el Análisis Exploratorio de Datos, la Identificación de **Observaciones Influyentes**.\n",
                "\n",
                "Sin embargo, para poder realizar este paso, es necesario que todas las variables con las que se trabaja sean numéricas. Por este motivo, en primer lugar, se va a comprobar si hay alguna variable catégorica utilizando el método `.describe()` con el parámetro `include = 'object'`:"
            ]
        },
        {
            "cell_type": "code",
            "execution_count": 116,
            "metadata": {},
            "outputs": [
                {
                    "name": "stdout",
                    "output_type": "stream",
                    "text": [
                        "No hay variables categóricas en el conjunto de datos.\n"
                    ]
                }
            ],
            "source": [
                "# Se comprueba que si hay columnas categóricas:\n",
                "try:\n",
                "    # Se intenta obtener el resumen de las columnas categóricas\n",
                "    print(df_clean.describe(include='object')).T;\n",
                "\n",
                "except Exception:\n",
                "    # Si hay un error, es porque no hay columnas categóricas:\n",
                "    print(\"No hay variables categóricas en el conjunto de datos.\");"
            ]
        },
        {
            "cell_type": "markdown",
            "metadata": {},
            "source": [
                "Una vez ya se comprueba que todas las características numéricas, se puede proceder a **identificar las observaciones influyentes**.\n",
                "\n",
                "Para ello, en primer lugar es necesario identificar cuál será, de ahora en adelante la **variable dependiente**, es decir, la variable a *predecir* y separar tanto esta como todas las relacionadas con ella.\n",
                "\n",
                "En este caso, la variable a predecir será `Outcome` , siendo una variable de clase (0 o 1):\n",
                "-  0 negativo en diabetes\n",
                "- 1 positivo en diabetes\n",
                "\n",
                "Teniendo en cuenta que en el conjunto de datos **no hay ninguna otra características relacionada directamente con esta**, las variables independientes serán todo el resto."
            ]
        },
        {
            "cell_type": "code",
            "execution_count": 117,
            "metadata": {},
            "outputs": [],
            "source": [
                "# Se separa la variable dependiente: \n",
                "#y = df_clean ['Outcome'];\n",
                "\n",
                "# Se guardan las variables independientes en una matrix, eliminando las características relacionadas con la dependiente:\n",
                "#X = df_clean.drop(['Outcome'], axis = 1);"
            ]
        },
        {
            "cell_type": "markdown",
            "metadata": {},
            "source": [
                "Ahora que se tienen los datos separados, se puede proceder a la identificación de observaciones influyentes a partir del estudio de la **Distancia de Cook**.\n",
                "\n",
                "Este parámetro ayuda a evaluar la **influencia de una observación mediante los coeficientes de un modelo de regresión lineal**. Si la Distancia de Cook de una observación es alta, significa que dicho dato puede estar alterando de forma muy notable el ajuste del modelo."
            ]
        },
        {
            "cell_type": "code",
            "execution_count": 118,
            "metadata": {},
            "outputs": [],
            "source": [
                "# Se incluye el término de ordenada en el origen: \n",
                "#X = sm.add_constant (X);\n",
                "\n",
                "# Se ajusta el modelo de Regresión Lineal Ordinaria: \n",
                "#model_OLS = sm.OLS(y, X).fit();\n",
                "\n",
                "# Se hace un diagnóstico de influencia y se extrae la Distancia de Cook: \n",
                "#cooks_distance = model_OLS.get_influence().cooks_distance;"
            ]
        },
        {
            "cell_type": "markdown",
            "metadata": {},
            "source": [
                "Hay una norma estándar que establece un **punto de corte para la Distancia de Cook**, a partir de la cual está aceptado que la información dentro de un conjunto de datos presente. Dicho límite es la **cuarta parte de la longitud total del DataFrame**:"
            ]
        },
        {
            "cell_type": "code",
            "execution_count": 119,
            "metadata": {},
            "outputs": [],
            "source": [
                "# Se define el Punto de Corte:\n",
                "#cut_point = 4/len(df);\n",
                "\n",
                "# Se comprueba cuántas viviendas están por encima de ese punto de corte:\n",
                "#print(f\" Hay un total de {len(np.where(cooks_distance[0]>cut_point)[0])} clientes que se encuentran por encima del punto de corte\");\n",
                "\n",
                "# Se eliminan las observaciones influyentes:\n",
                "#df_clean = df.drop(np.where(cooks_distance[0] > cut_point)[0]);"
            ]
        },
        {
            "cell_type": "markdown",
            "metadata": {},
            "source": [
                "### Paso 2.5 - Análisis de Características Relevantes:"
            ]
        },
        {
            "cell_type": "markdown",
            "metadata": {},
            "source": [
                "Continuando con el proceso de preparación y compresión del conjunto de datos que implica un Análisis Exploratorio, se va a realizar una **Selección de Características**.\n",
                "\n",
                "Para ello, se va a utilizar un modelo de regresión basado en **XGBoost**, un algoritmo basado en árboles de decisión que utiliza boosting para mejorar la precisión. Por este motivo, el primer paso ha de ser separar el conjunto de datos teniendo una partición para entrenar al modelo (*train*) y otro para probarlo (*test*), de forma que se pueda evaluar sin inferir en el modelo su capacidad predictiva."
            ]
        },
        {
            "cell_type": "code",
            "execution_count": 120,
            "metadata": {},
            "outputs": [],
            "source": [
                "# Se separa la variable dependiente: \n",
                "y = df_clean ['Outcome'];\n",
                "\n",
                "# Se guardan las variables independientes en una matrix, eliminando las características relacionadas con la dependiente:\n",
                "X = df_clean.drop(['Outcome'], axis = 1);\n",
                "\n",
                "# Se realiza la partición, explicitando el tamaño del test set:\n",
                "X_train, X_test, y_train, y_test = train_test_split(X, y, test_size = 0.2, random_state = 42);\n",
                "\n",
                "# Se crea un modelo de regresión XGBoost y se entrena con los datos del 'train_set':\n",
                "xgb_model = xgb.XGBClassifier(objective = 'binary:logistic', random_state = 42).fit(X_train, y_train);"
            ]
        },
        {
            "cell_type": "markdown",
            "metadata": {},
            "source": [
                "Una vez se tiene el modelo entrenado, se va a generar un DataFrame que contenga el **nombre cada característica y su importancia** en valor porcentual:"
            ]
        },
        {
            "cell_type": "code",
            "execution_count": 121,
            "metadata": {},
            "outputs": [
                {
                    "data": {
                        "text/html": [
                            "<div>\n",
                            "<style scoped>\n",
                            "    .dataframe tbody tr th:only-of-type {\n",
                            "        vertical-align: middle;\n",
                            "    }\n",
                            "\n",
                            "    .dataframe tbody tr th {\n",
                            "        vertical-align: top;\n",
                            "    }\n",
                            "\n",
                            "    .dataframe thead th {\n",
                            "        text-align: right;\n",
                            "    }\n",
                            "</style>\n",
                            "<table border=\"1\" class=\"dataframe\">\n",
                            "  <thead>\n",
                            "    <tr style=\"text-align: right;\">\n",
                            "      <th></th>\n",
                            "      <th>Feature</th>\n",
                            "      <th>Importance</th>\n",
                            "    </tr>\n",
                            "  </thead>\n",
                            "  <tbody>\n",
                            "    <tr>\n",
                            "      <th>1</th>\n",
                            "      <td>Glucose</td>\n",
                            "      <td>30.438169</td>\n",
                            "    </tr>\n",
                            "    <tr>\n",
                            "      <th>5</th>\n",
                            "      <td>BMI</td>\n",
                            "      <td>13.794379</td>\n",
                            "    </tr>\n",
                            "    <tr>\n",
                            "      <th>7</th>\n",
                            "      <td>Age</td>\n",
                            "      <td>12.609548</td>\n",
                            "    </tr>\n",
                            "    <tr>\n",
                            "      <th>4</th>\n",
                            "      <td>Insulin</td>\n",
                            "      <td>11.230547</td>\n",
                            "    </tr>\n",
                            "    <tr>\n",
                            "      <th>0</th>\n",
                            "      <td>Pregnancies</td>\n",
                            "      <td>10.167846</td>\n",
                            "    </tr>\n",
                            "    <tr>\n",
                            "      <th>3</th>\n",
                            "      <td>SkinThickness</td>\n",
                            "      <td>9.141461</td>\n",
                            "    </tr>\n",
                            "    <tr>\n",
                            "      <th>2</th>\n",
                            "      <td>BloodPressure</td>\n",
                            "      <td>6.483466</td>\n",
                            "    </tr>\n",
                            "    <tr>\n",
                            "      <th>6</th>\n",
                            "      <td>DiabetesPedigreeFunction</td>\n",
                            "      <td>6.134581</td>\n",
                            "    </tr>\n",
                            "  </tbody>\n",
                            "</table>\n",
                            "</div>"
                        ],
                        "text/plain": [
                            "                    Feature  Importance\n",
                            "1                   Glucose   30.438169\n",
                            "5                       BMI   13.794379\n",
                            "7                       Age   12.609548\n",
                            "4                   Insulin   11.230547\n",
                            "0               Pregnancies   10.167846\n",
                            "3             SkinThickness    9.141461\n",
                            "2             BloodPressure    6.483466\n",
                            "6  DiabetesPedigreeFunction    6.134581"
                        ]
                    },
                    "execution_count": 121,
                    "metadata": {},
                    "output_type": "execute_result"
                }
            ],
            "source": [
                "# Se extrae la importancia de cada característica en porcentaje y se guarda en un Data Frame:\n",
                "df_imp = pd.DataFrame({'Feature':X_train.columns, 'Importance':xgb_model.feature_importances_*100});\n",
                "\n",
                "# Se ordena el Data Frame en orden de mayor a menor importancia:\n",
                "df_imp = df_imp.sort_values(by='Importance', ascending=False);\n",
                "\n",
                "# Se muestra el Data Frame de las características y su importancia: \n",
                "df_imp"
            ]
        },
        {
            "cell_type": "markdown",
            "metadata": {},
            "source": [
                "Como se puede ver, la **característica más importante** que determina la predicción sobre la **concentración de glucosa** en sangre. Sin embargo, **todas las variables parecen tener una relevancia significativa**, siendo la que menos un 5%. \n",
                "\n",
                "Por este motivo, se decide **NO desechar ninguna característica** y pasar al análisis de otros parámetros. "
            ]
        },
        {
            "cell_type": "markdown",
            "metadata": {},
            "source": [
                "### Paso 2.6 - Análisis del VIF:"
            ]
        },
        {
            "cell_type": "markdown",
            "metadata": {},
            "source": [
                "Para continuar con el Análisis Exploratorio de los Datos, se va proceder a utilizar una métrica para **detectar la colinealidad entre las variables independientes**, el factor de Inflación de Varianza (**VIF**), pudiendo así saber si una variable puede predecirse de manera lineal usando otras variables y **evitar redundancias** en el conjunto de datos."
            ]
        },
        {
            "cell_type": "code",
            "execution_count": 122,
            "metadata": {},
            "outputs": [
                {
                    "data": {
                        "text/plain": [
                            "Pregnancies                  8.047020\n",
                            "Glucose                      5.042648\n",
                            "BloodPressure                2.702926\n",
                            "SkinThickness                7.909090\n",
                            "Insulin                      4.439724\n",
                            "BMI                         10.307008\n",
                            "DiabetesPedigreeFunction     1.243539\n",
                            "Age                         10.810472\n",
                            "dtype: float64"
                        ]
                    },
                    "execution_count": 122,
                    "metadata": {},
                    "output_type": "execute_result"
                }
            ],
            "source": [
                "# Se calcula el VIF utilizando la función variance_inflation_factor de cada una de las características del conjunto de datos:\n",
                "vif = pd.Series([variance_inflation_factor(X_train.corr().values, i) for i in range(X_train.corr().shape[1])], index=X_train.columns);\n",
                "vif"
            ]
        },
        {
            "cell_type": "markdown",
            "metadata": {},
            "source": [
                "La forma correcta de interpretar un VIF es la siguiente:\n",
                "\n",
                "- **VIF** = 1 : No hay colinealidad \n",
                "\n",
                "- 1 < **VIF** < 5 : Colinealidad Moderada \n",
                "\n",
                "- **VIF** > 5 : Colinealidad Alta"
            ]
        },
        {
            "cell_type": "markdown",
            "metadata": {},
            "source": [
                "Dados los resultados y los criterios de evaluación, se puede comprobar que hay **bastante colinealidad entre las variables**, teniendo **VIFs altos** en **características** que se han obtenido como **relevantes**. Por este motivo, en lugar de eliminar las columnas del Data Frame como mayor VIF, se va a tratar de **combinar aquellas que estén correlacionadas**. \n",
                "\n",
                "Para ello, se va a obtener el **mapa de color de la matrix de correlación**, donde se van a poder estudiar estas relaciones entre variables:"
            ]
        },
        {
            "cell_type": "code",
            "execution_count": 123,
            "metadata": {},
            "outputs": [
                {
                    "data": {
                        "text/plain": [
                            "<Axes: >"
                        ]
                    },
                    "execution_count": 123,
                    "metadata": {},
                    "output_type": "execute_result"
                },
                {
                    "data": {
                        "image/png": "[encoded data removed]",
                        "text/plain": [
                            "<Figure size 640x480 with 2 Axes>"
                        ]
                    },
                    "metadata": {},
                    "output_type": "display_data"
                }
            ],
            "source": [
                "# Se hace una copia del train set:\n",
                "X_corr = X_train.copy();\n",
                "\n",
                "# Se añade la columna de precios:\n",
                "X_corr['Outcome'] = y_train;\n",
                "\n",
                "# Se calcula la matrix de correlación entre todas las columnas:\n",
                "corr = X_corr.corr();\n",
                "\n",
                "# Se crea el mapa de color:\n",
                "mask = np.triu(np.ones_like(corr, dtype=bool));\n",
                "sns.heatmap(corr, mask=mask, annot=True, cmap='coolwarm', linewidths=0.5, fmt='.2f')"
            ]
        },
        {
            "cell_type": "markdown",
            "metadata": {},
            "source": [
                "Gracias a la matrix de correlación se puede ver que la **edad y el número de embarazos** del paciente presentan una **relación bastante alta**; lo mismo pasa con el **BMI y el Skin Thickness**.\n",
                "\n",
                "Teniendo en cuenta que estas características son algunas de las **más importantes**, no conviene eliminarlas. Sin embargo, se va a generar un *Interaction Term* de forma que se van a **combinar ambos pares de variables** para poder **sumar sus importancias**. En este caso, se ha optado por **multiplicarlas**:"
            ]
        },
        {
            "cell_type": "code",
            "execution_count": 124,
            "metadata": {},
            "outputs": [
                {
                    "data": {
                        "text/plain": [
                            "Glucose                     4.501177\n",
                            "BloodPressure               2.003988\n",
                            "Insulin                     3.945085\n",
                            "DiabetesPedigreeFunction    1.237615\n",
                            "Age_Pregnancies             1.511091\n",
                            "Skin_BMI                    1.861456\n",
                            "dtype: float64"
                        ]
                    },
                    "execution_count": 124,
                    "metadata": {},
                    "output_type": "execute_result"
                }
            ],
            "source": [
                "# # # Interaction Term - Age & Pregnancies # # #\n",
                "X_train['Age_Pregnancies'] = X_train['Age'] * X_train['Pregnancies'];\n",
                "X_test['Age_Pregnancies'] = X_test['Age'] * X_test['Pregnancies'];\n",
                "\n",
                "# # # Interaction Term - Skin Thickness & BMI # # #\n",
                "X_train['Skin_BMI'] = X_train['SkinThickness'] * X_train['BMI'];\n",
                "X_test['Skin_BMI'] = X_test['SkinThickness'] * X_test['BMI'];\n",
                "\n",
                "# Se eliminan las características que se han combinado:\n",
                "X_train.drop(['Age', 'Pregnancies', 'SkinThickness', 'BMI'], axis = 1, inplace = True);\n",
                "X_test.drop (['Age', 'Pregnancies', 'SkinThickness', 'BMI'], axis = 1, inplace = True);\n",
                "\n",
                "# Se comprueban los nuevos valores del VIF:\n",
                "vif = pd.Series([variance_inflation_factor(X_train.corr().values, i) for i in range(X_train.corr().shape[1])], index=X_train.columns)\n",
                "vif"
            ]
        },
        {
            "cell_type": "markdown",
            "metadata": {},
            "source": [
                "Como se puede comprobar, los **valores del VIF han bajado considerablemente**, por lo que se puede proceder con el estudio."
            ]
        },
        {
            "cell_type": "markdown",
            "metadata": {},
            "source": [
                "## Paso 3 - Escalado de Variables:"
            ]
        },
        {
            "cell_type": "markdown",
            "metadata": {},
            "source": [
                "En esta ocasión, al ir a analizar un algoritmo basado en Decision Trees, **no es necesario realizar ningún escalado** al no ser sensibles a estas variaciones."
            ]
        },
        {
            "cell_type": "markdown",
            "metadata": {},
            "source": [
                "## Paso 4 - Estudio del modelo de tipo Decision Tree:"
            ]
        },
        {
            "cell_type": "markdown",
            "metadata": {},
            "source": [
                "Una vez ya se ha **preparado el conjunto de datos** a través del análisis exploratorio de datos y se ha comprendido su distribución y características, se va a llevar a cabo un **estudio de árboles de decisión**, ajustando distintos **hiperparámetros** para optimizar su rendimiento. \n",
                "\n",
                "Los **árboles de decisión** son modelos de aprendizaje supervisado cuya estructura jerárquica permite **tomar decisiones sobre los datos** dividiéndolos en subconjuntos más simples. Esta **división varía dependiendo del tipo de algoritmo** de machine learning que se esté utilizado, regresión o clasificación. En este caso, se ha de **predecir si un paciente es o no diabético** (1 o 0), por lo tanto se utlizará un **árbol de decisión de tipo clasificador**. \n",
                "\n",
                "La **principal ventaja** de estos modelos recae en su **fácil interpretación**, a la par que la capacidad de manejar datos **sin necesidad de escalado**. Sin embargo, **si no se regulan** adecuadamente mediante los hiperparámetros, pueden caer un **sobreajuste**. \n",
                "\n",
                "Para poder definir estos hiperparámetros de forma correcta, es necesario conocer su utilidad:\n",
                "\n",
                "- `max_depth` : Controla la profundidad máxima del árbol, es decir, el número de iteraciones que ha de realizar sobre el conjunto de datos\n",
                "\n",
                "- `criterion` : Define la métrica para evaluar la calidad de las divisiones. En este caso, al tratarse de un clasificador, las divisiones dependerán de la entropía, por lo que aquí se puede elegir qué tipo de estadística se desea para medir este parámetro. \n",
                "\n",
                "- `min_samples_split` : Número mínimo de muestras necesarias para dividir un nodo\n",
                "\n",
                "- `min_samples_leaf` : Número mínimo de muestras que debe contener un nodo hoja\n",
                "\n",
                "- `max_features`: Número máximo de características consideradas en cada división\n",
                "\n"
            ]
        },
        {
            "cell_type": "markdown",
            "metadata": {},
            "source": [
                "Teniendo esto en cuenta, para poder evaluar la importancia de una correcta selección de los hiperparámetros, se van a declarar dos tipos de árboles de decisión:\n",
                "\n",
                "- **Árbol de Decisión Sencillo:** Se realiza una predicción en base a un **entrenamiento poco exhaustivo**. Esto puede llevar a una **tasa de error alta** tanto en el conjunto de **entrenamiento** como en el de **test**. \n",
                "\n",
                "- **Árbol de Decisión Complejo:** Se realiza una predicción en base a un **entrenamiento demasiado exhaustivo**. Esto puede llevar a un **sobreajuste** del modelo, es decir, a un **aprendizaje a medida** para el conjunto de **entrenamiento** (con una tasa de error muy baja) pero poco generalizado, con una **tasa de error alta** para el conjunto de **test**. "
            ]
        },
        {
            "cell_type": "markdown",
            "metadata": {},
            "source": [
                "De esta forma, como ya se tiene el conjunto de datos separado en train y test, se puede prodecer a **instanciar y entrenar dos objetos** de la clase `DecisionTreeClassifier` para poder comenzar a modelar:"
            ]
        },
        {
            "cell_type": "code",
            "execution_count": 125,
            "metadata": {},
            "outputs": [],
            "source": [
                "# # # Decision Tree Simple # # #\n",
                "simple_tree = DecisionTreeClassifier(max_depth = 3, max_features = X_train.shape[1]//2, min_samples_leaf = 10, random_state = 42).fit(X_train, y_train);\n",
                "\n",
                "# # # Decision Tree Complejo # # #\n",
                "complex_tree = DecisionTreeClassifier(max_depth = 100, min_samples_leaf = 1, random_state = 42).fit(X_train, y_train);"
            ]
        },
        {
            "cell_type": "markdown",
            "metadata": {},
            "source": [
                "La elección de hiperparámetros para cada uno de los casos ha sido la siguiente:\n",
                "\n",
                "- **Árbol de Decisión Simple:** Se ha optado por una **profundidad muy baja**, de solo 3 nodos y un número mínimo de muestras por nodo hoja de 10. Sin embargo, la elección que más puede llegar a influir en la capacidad predictiva del modelo es `max_features` al haber decidido que únicamente se tengan en cuenta la **mitad de las características en cada decisión**. \n",
                "\n",
                "Por el contrario...\n",
                "\n",
                "- **Árbol de Decisión Complejo:** Se ha optado por tener en cuenta **todas las características en cada decisión**, siendo este el valor por defecto y no teniendo que especificarlo. Además, se ha elegido una **profundidad de árbol mucho mayor** y, un número **mínimo de muestras por nodo hoja de 1**. Esto implica que el modelo puede ser demasiado complejo, con muchas hojas individuales que reflejen **variaciones específicas del conjunto de entrenamiento** y no sean generalizables a otros datos. "
            ]
        },
        {
            "cell_type": "markdown",
            "metadata": {},
            "source": [
                "A continuación, se va a realizar la **predicción** tanto en los valores de entrenamiento como en los de test, utilizando el método `.predict()`:"
            ]
        },
        {
            "cell_type": "code",
            "execution_count": 126,
            "metadata": {},
            "outputs": [],
            "source": [
                "# # # Predicción - Decision Tree Simple # # #\n",
                "y_hat_train_simple_tree = simple_tree.predict(X_train);\n",
                "y_hat_test_simple_tree = simple_tree.predict(X_test);\n",
                "\n",
                "# # # Predicción - Decision Tree Complejo # # #\n",
                "y_hat_train_complex_tree = complex_tree.predict(X_train);\n",
                "y_hat_test_complex_tree = complex_tree.predict(X_test);"
            ]
        },
        {
            "cell_type": "markdown",
            "metadata": {},
            "source": [
                "Finalmente, lo interesante es **analizar las métricas** que aportan cada uno de estos modelos para **evaluar su capacidad predictiva**. Para ello, se va a declarar una función, dados las variables objetivo reales y las predichas (para el *train* y *test* set), pueda obtener cada uno de estos parámetros y los muestre por pantalla:"
            ]
        },
        {
            "cell_type": "code",
            "execution_count": 127,
            "metadata": {},
            "outputs": [],
            "source": [
                "# Definición de la función para obtener las métricas de los modelos dadas las variables objetivo reales y las predichas\n",
                "def get_metrics(y_train, y_test, y_hat_train, y_hat_test):\n",
                "\n",
                "    # Se calculan métricas para el TRAIN SET:\n",
                "    train_accuracy = accuracy_score(y_train, y_hat_train)\n",
                "    train_f1 = f1_score(y_train, y_hat_train)\n",
                "    train_auc = roc_auc_score(y_train, y_hat_train)\n",
                "    train_precision = precision_score(y_train, y_hat_train)\n",
                "    train_recall = recall_score(y_train, y_hat_train)\n",
                "    train_specificity = specificity_score(y_train, y_hat_train)\n",
                "\n",
                "    # Se calculan métricas para el TEST SET:\n",
                "    test_accuracy = accuracy_score(y_test, y_hat_test)\n",
                "    test_f1 = f1_score(y_test, y_hat_test)\n",
                "    test_auc = roc_auc_score(y_test, y_hat_test)\n",
                "    test_precision = precision_score(y_test, y_hat_test)\n",
                "    test_recall = recall_score(y_test, y_hat_test)\n",
                "    test_specificity = specificity_score(y_test, y_hat_test)\n",
                "\n",
                "    # Se calculan la diferencia entre métricas de entrenamiento y prueba:\n",
                "    diff_accuracy = train_accuracy - test_accuracy\n",
                "    diff_f1 = train_f1 - test_f1\n",
                "    diff_auc = train_auc - test_auc\n",
                "    diff_precision = train_precision - test_precision\n",
                "    diff_recall = train_recall - test_recall\n",
                "    diff_specificity = train_specificity - test_specificity\n",
                "\n",
                "    # Se crea un DataFrame con los resultados:\n",
                "    metrics_df = pd.DataFrame([[train_accuracy, train_f1, train_auc, train_precision, train_recall, train_specificity],[test_accuracy, test_f1, test_auc, test_precision, test_recall, test_specificity],[diff_accuracy, diff_f1, diff_auc, diff_precision, diff_recall, diff_specificity]],\n",
                "                              columns = ['Accuracy', 'F1', 'AUC', 'Precision', 'Recall', 'Specificity'],\n",
                "                              index = ['Train','Test', 'Diferencia'])\n",
                "\n",
                "    return metrics_df"
            ]
        },
        {
            "cell_type": "markdown",
            "metadata": {},
            "source": [
                "Los parámetros a calcular son los siguientes:\n",
                "\n",
                "**- Exactitud (Accuracy):** Proporción de predicciones correctas realizadas. En este caso hace referencia al porcentaje de diabéticos que han sido detectados como tal y al porcentaje de NO diabéticos que han sido identificados como tal. *¿De todas las predicciones realizadas, cuántas acertó el modelo?*\n",
                "\n",
                "**- F1-Score:** Métrica que combina la Precisión y la Sensibilidad para obtener un valor objetivo en conjuntos de datos que están desbalanceados.\n",
                "**\n",
                "**- AUC (Área bajo la curva ROC):** Evalúa la capacidad predictora del clasificador mediendo el área bajo la curva ROC. Un clasificador perfecto tendrá un valor 1.0 y un Random Classifier (dará positivo o negativo de forma aleatoria) tendrá un AUC de 0.5. \n",
                "\n",
                "**- Precison (Precisión):** Proporción de predicciones positivas correctas sobre todas las predicciones positivas realizadas. Esta métrica es muy importante cuando es necesario minimizar los falsos positivos. *De todas las veces que el modelo predijo que el paciente era diabético ¿cuántas veces acertó?* \n",
                "\n",
                "**- Recall (Sensibilidad):** Proporción de casos positivos correctamente identificados sobre el total de casos positivos reales. Esta métrica es crucial en los casos donde se prioriza detectar todos los casos positivos, minimizar el número de falsos negativos. *De todas las veces que el paciente realmente era diabético ¿cuántas veces lo detectó?*\n",
                "\n",
                "**- Specificity (Especificidad):** Proporción de casos negativos correctamente identificados sobre el total de casos negativos reales. *De todas las veces que el paciente NO era diabético, ¿cuántas veces el modelo lo detectó?*"
            ]
        },
        {
            "cell_type": "markdown",
            "metadata": {},
            "source": [
                "Antes de pasar al estudio de las métricas es importante comprobar **cómo de balanceado está el conjunto de datos**, es decir, que el número de diabéticos y no diabéticos es similar.\n",
                "\n",
                "Para ello, se va a estudiar el **número de 0s y de 1s** que hay en la variable dependiente `Outcome`:"
            ]
        },
        {
            "cell_type": "code",
            "execution_count": 128,
            "metadata": {},
            "outputs": [
                {
                    "data": {
                        "text/plain": [
                            "Outcome\n",
                            "0    262\n",
                            "1    130\n",
                            "Name: count, dtype: int64"
                        ]
                    },
                    "execution_count": 128,
                    "metadata": {},
                    "output_type": "execute_result"
                }
            ],
            "source": [
                "df_clean['Outcome'].value_counts()"
            ]
        },
        {
            "cell_type": "markdown",
            "metadata": {},
            "source": [
                "Como se puede comprobar, el conjunto de datos **no está balanceado**, al tener muchos más datos de pacientes NO diabéticos que diabéticos. \n",
                "\n",
                "Esto es algo que **afecta a las métricas que analizan la capacidad predictiva** del modelo y se deberán tener en cuenta para el análisis de los resultados. "
            ]
        },
        {
            "cell_type": "markdown",
            "metadata": {},
            "source": [
                "Teniendo todo esto en cuenta, se puede proceder a obtener las métricas para los **dos tipos de árbol de decisión** generados:"
            ]
        },
        {
            "cell_type": "code",
            "execution_count": 129,
            "metadata": {},
            "outputs": [
                {
                    "data": {
                        "text/html": [
                            "<div>\n",
                            "<style scoped>\n",
                            "    .dataframe tbody tr th:only-of-type {\n",
                            "        vertical-align: middle;\n",
                            "    }\n",
                            "\n",
                            "    .dataframe tbody tr th {\n",
                            "        vertical-align: top;\n",
                            "    }\n",
                            "\n",
                            "    .dataframe thead th {\n",
                            "        text-align: right;\n",
                            "    }\n",
                            "</style>\n",
                            "<table border=\"1\" class=\"dataframe\">\n",
                            "  <thead>\n",
                            "    <tr style=\"text-align: right;\">\n",
                            "      <th></th>\n",
                            "      <th>Accuracy</th>\n",
                            "      <th>F1</th>\n",
                            "      <th>AUC</th>\n",
                            "      <th>Precision</th>\n",
                            "      <th>Recall</th>\n",
                            "      <th>Specificity</th>\n",
                            "    </tr>\n",
                            "  </thead>\n",
                            "  <tbody>\n",
                            "    <tr>\n",
                            "      <th>Train</th>\n",
                            "      <td>0.795527</td>\n",
                            "      <td>0.584416</td>\n",
                            "      <td>0.704161</td>\n",
                            "      <td>0.882353</td>\n",
                            "      <td>0.436893</td>\n",
                            "      <td>0.971429</td>\n",
                            "    </tr>\n",
                            "    <tr>\n",
                            "      <th>Test</th>\n",
                            "      <td>0.734177</td>\n",
                            "      <td>0.511628</td>\n",
                            "      <td>0.655627</td>\n",
                            "      <td>0.687500</td>\n",
                            "      <td>0.407407</td>\n",
                            "      <td>0.903846</td>\n",
                            "    </tr>\n",
                            "    <tr>\n",
                            "      <th>Diferencia</th>\n",
                            "      <td>0.061350</td>\n",
                            "      <td>0.072788</td>\n",
                            "      <td>0.048534</td>\n",
                            "      <td>0.194853</td>\n",
                            "      <td>0.029486</td>\n",
                            "      <td>0.067582</td>\n",
                            "    </tr>\n",
                            "  </tbody>\n",
                            "</table>\n",
                            "</div>"
                        ],
                        "text/plain": [
                            "            Accuracy        F1       AUC  Precision    Recall  Specificity\n",
                            "Train       0.795527  0.584416  0.704161   0.882353  0.436893     0.971429\n",
                            "Test        0.734177  0.511628  0.655627   0.687500  0.407407     0.903846\n",
                            "Diferencia  0.061350  0.072788  0.048534   0.194853  0.029486     0.067582"
                        ]
                    },
                    "execution_count": 129,
                    "metadata": {},
                    "output_type": "execute_result"
                }
            ],
            "source": [
                "# # # Métricas - Decision Tree Simple # # #\n",
                "get_metrics (y_train, y_test, y_hat_train_simple_tree, y_hat_test_simple_tree)"
            ]
        },
        {
            "cell_type": "markdown",
            "metadata": {},
            "source": [
                "Las **diferencias obtenidas** entre los resultados para el conjunto de test y el de train son **mayores al 10%** en la mayoría de los casos, lo que ya es un indicativo de **baja performance** del modelo dados unos hiperparámetros tan poco exhaustivos. \n",
                "\n",
                "Debido al **desbalance** visto en el conjunto de datos,  el **F1-Score** es un parámetro que da información fiable para analizar la capacidad predictiva del modelo. En este caso, se ha obtenido un **67.63%** en el conjunto de entrenamiento, **porcentaje bastante bajo**, indicando así que el modelo **pierde rendimiento en la detección de la clase minoritaria**, siendo precisamente la de los pacientes diabéticos. Esto también se puede estudiar en la **Sensibilidad** (Recall) donde **de cada 100 veces que se puede encontrar con un paciente diabético**, realmente solo **acertó 59** para el conjunto de **entrenamiento** y **47** para el de **prueba**, esto es muy bajo. **Lo contrario ocurre en la Especificidad**, en donde se tienen unos porcentajes bastante altos debido a que, al tener un mayor número de pacientes NO diabéticos, es más probable que acierte. "
            ]
        },
        {
            "cell_type": "markdown",
            "metadata": {},
            "source": [
                "Una vez ya se ha estudiado el caso del árbol de decisión sencillo, se va a pasar a evaluar los resultados del complejo:"
            ]
        },
        {
            "cell_type": "code",
            "execution_count": 130,
            "metadata": {},
            "outputs": [
                {
                    "data": {
                        "text/html": [
                            "<div>\n",
                            "<style scoped>\n",
                            "    .dataframe tbody tr th:only-of-type {\n",
                            "        vertical-align: middle;\n",
                            "    }\n",
                            "\n",
                            "    .dataframe tbody tr th {\n",
                            "        vertical-align: top;\n",
                            "    }\n",
                            "\n",
                            "    .dataframe thead th {\n",
                            "        text-align: right;\n",
                            "    }\n",
                            "</style>\n",
                            "<table border=\"1\" class=\"dataframe\">\n",
                            "  <thead>\n",
                            "    <tr style=\"text-align: right;\">\n",
                            "      <th></th>\n",
                            "      <th>Accuracy</th>\n",
                            "      <th>F1</th>\n",
                            "      <th>AUC</th>\n",
                            "      <th>Precision</th>\n",
                            "      <th>Recall</th>\n",
                            "      <th>Specificity</th>\n",
                            "    </tr>\n",
                            "  </thead>\n",
                            "  <tbody>\n",
                            "    <tr>\n",
                            "      <th>Train</th>\n",
                            "      <td>1.000000</td>\n",
                            "      <td>1.00000</td>\n",
                            "      <td>1.000000</td>\n",
                            "      <td>1.0</td>\n",
                            "      <td>1.000000</td>\n",
                            "      <td>1.000000</td>\n",
                            "    </tr>\n",
                            "    <tr>\n",
                            "      <th>Test</th>\n",
                            "      <td>0.658228</td>\n",
                            "      <td>0.44898</td>\n",
                            "      <td>0.597934</td>\n",
                            "      <td>0.5</td>\n",
                            "      <td>0.407407</td>\n",
                            "      <td>0.788462</td>\n",
                            "    </tr>\n",
                            "    <tr>\n",
                            "      <th>Diferencia</th>\n",
                            "      <td>0.341772</td>\n",
                            "      <td>0.55102</td>\n",
                            "      <td>0.402066</td>\n",
                            "      <td>0.5</td>\n",
                            "      <td>0.592593</td>\n",
                            "      <td>0.211538</td>\n",
                            "    </tr>\n",
                            "  </tbody>\n",
                            "</table>\n",
                            "</div>"
                        ],
                        "text/plain": [
                            "            Accuracy       F1       AUC  Precision    Recall  Specificity\n",
                            "Train       1.000000  1.00000  1.000000        1.0  1.000000     1.000000\n",
                            "Test        0.658228  0.44898  0.597934        0.5  0.407407     0.788462\n",
                            "Diferencia  0.341772  0.55102  0.402066        0.5  0.592593     0.211538"
                        ]
                    },
                    "execution_count": 130,
                    "metadata": {},
                    "output_type": "execute_result"
                }
            ],
            "source": [
                "# # # Métricas - Decision Tree Complejo # # #\n",
                "get_metrics (y_train, y_test, y_hat_train_complex_tree, y_hat_test_complex_tree)"
            ]
        },
        {
            "cell_type": "markdown",
            "metadata": {},
            "source": [
                "En esta ocasión, lo más destacable es el **gran sobreajuste** al que ha llegado el modelo, teniendo unas **métricas perfectas** para el conjunto de **entrenamiento** pero **bastante malas** para el conjunto de **prueba**.\n",
                "\n",
                "Este *overfitting* es debido a los hiperparámetros seleccionados, dado que llevan al árbol de decisión a expandirse tanto que **particularizan mucho para el conjunto de datos concreto** con el que entrenan. Al definir una profundidad tan elevada y permitir que haya nodos hoja con una única muestra, lo que se está consiguiendo es llegar a una **clasificación demasiado en detalle** que no es para **nada generalizable** a otros casos. Por este motivo, el **conjunto de prueba tiene un rendimiento tan pobre**. \n",
                "\n",
                "Si se evalúan algunos de los parámetros obtenidos en el *test set*, teniendo también en cuenta el **desbalance de datos**, se puede observar que la **Sensibilidad** es **muy baja** al solo llegar al 50%. La **Especificidad**, como cabía esperar, es la **métrica más alta** debido al número mayoritario de pacientes NO diabéticos. "
            ]
        },
        {
            "cell_type": "markdown",
            "metadata": {},
            "source": [
                "A continuación se va a pasar a realizar un análisis **variando dos hiperparámetros** de todos los posibles: `max_depth` y `min_samples_leaf`. \n",
                "\n",
                "De esta forma, se va a **fijar el valor para uno de ellos**, mientras que **se varíe para el otro** y se van a ir obteniendo las métricas. Con esto se consigue ver **cuál es la influencia de cada parámetro sobre el rendimiento final** y sería algo útil para poder llegar a ajustar el modelo con unos valores de hiperparámetros ideales. \n",
                "\n",
                "Para ello, se va a utilizar un bucle `for` que itere sobre los posibles valores que se deseen probar para cada hiperparámetro, se generará el modelo y se llamará a la función `get_metrics()` para obtener las métricas:"
            ]
        },
        {
            "cell_type": "markdown",
            "metadata": {},
            "source": [
                "### Combinación 1: `min_samples_leaf` fijo, `max_depth` variable:"
            ]
        },
        {
            "cell_type": "markdown",
            "metadata": {},
            "source": [
                "Para esta primera combinación se van a **variar los valores de la profundidad del árbol**.\n",
                "\n",
                "Se han probado **distintos rangos** y se ha comprobado que las **métricas no variaban** en ningún decimal para ninguno de los dos conjuntos **hasta llegar a los 10 escalones de profundidad**.\n",
                "\n",
                "Por este motivo, el **bucle comienza** a dar valores **en 10 y avanza en pasos de 2**. "
            ]
        },
        {
            "cell_type": "code",
            "execution_count": 131,
            "metadata": {},
            "outputs": [
                {
                    "name": "stdout",
                    "output_type": "stream",
                    "text": [
                        "Resultados para max_depth = 10:\n",
                        "            Accuracy        F1       AUC  Precision    Recall  Specificity\n",
                        "Train       0.996805  0.995122  0.995146   1.000000  0.990291     1.000000\n",
                        "Test        0.670886  0.480000  0.616453   0.521739  0.444444     0.788462\n",
                        "Diferencia  0.325919  0.515122  0.378693   0.478261  0.545847     0.211538\n",
                        "--------------------------------------------------\n",
                        "Resultados para max_depth = 8:\n",
                        "            Accuracy        F1       AUC  Precision    Recall  Specificity\n",
                        "Train       0.958466  0.938389  0.959154   0.916667  0.961165     0.957143\n",
                        "Test        0.670886  0.458333  0.607550   0.523810  0.407407     0.807692\n",
                        "Diferencia  0.287580  0.480055  0.351604   0.392857  0.553758     0.149451\n",
                        "--------------------------------------------------\n",
                        "Resultados para max_depth = 6:\n",
                        "            Accuracy        F1       AUC  Precision    Recall  Specificity\n",
                        "Train       0.910543  0.869159  0.908599   0.837838  0.902913     0.914286\n",
                        "Test        0.670886  0.500000  0.625356   0.520000  0.481481     0.769231\n",
                        "Diferencia  0.239657  0.369159  0.283243   0.317838  0.421431     0.145055\n",
                        "--------------------------------------------------\n",
                        "Resultados para max_depth = 4:\n",
                        "            Accuracy        F1       AUC  Precision    Recall  Specificity\n",
                        "Train       0.856230  0.788732  0.845862   0.763636  0.815534     0.876190\n",
                        "Test        0.734177  0.631579  0.717949   0.600000  0.666667     0.769231\n",
                        "Diferencia  0.122053  0.157153  0.127914   0.163636  0.148867     0.106960\n",
                        "--------------------------------------------------\n",
                        "Resultados para max_depth = 2:\n",
                        "            Accuracy        F1       AUC  Precision    Recall  Specificity\n",
                        "Train       0.776358  0.507042  0.667614   0.923077  0.349515     0.985714\n",
                        "Test        0.683544  0.242424  0.554843   0.666667  0.148148     0.961538\n",
                        "Diferencia  0.092814  0.264618  0.112771   0.256410  0.201366     0.024176\n",
                        "--------------------------------------------------\n"
                    ]
                }
            ],
            "source": [
                "# # # COMBINACIÓN 1 - max_depth variable # # #\n",
                "for depth in range(10, 1, -2): \n",
                "\n",
                "    # Se genera y entrena el modelo:\n",
                "    decision_tree = DecisionTreeClassifier(max_depth = depth, min_samples_leaf = 1, random_state = 42).fit(X_train, y_train);\n",
                "\n",
                "    # Se obtiene la predicción para el conjunto de train:\n",
                "    y_hat_train_tree = decision_tree.predict(X_train);\n",
                "\n",
                "    # Se obtiene la predicción para el conjunto de test:\n",
                "    y_hat_test_tree = decision_tree.predict(X_test);\n",
                "    \n",
                "    # Se obtienen las métricas:\n",
                "    metrics = get_metrics (y_train, y_test, y_hat_train_tree, y_hat_test_tree);\n",
                "    \n",
                "    # Se imprime la profundidad del modelo actual:\n",
                "    print(f\"Resultados para max_depth = {depth}:\");\n",
                "\n",
                "    # Se imprimen las métricas para la profundidad actual:\n",
                "    print(metrics);\n",
                "    print(\"-\" * 50)"
            ]
        },
        {
            "cell_type": "markdown",
            "metadata": {},
            "source": [
                "Para una profundidad de 10 nodos, el sobreajuste se ha visto disminuido pero se sigue teniendo muchísima diferencia con respecto al conjunto de prueba. \n",
                "\n",
                "Sin embargo, según se reduce `max_depth` se puede comprobar que la disparidad entre ambos sets de datos es cada vez menor llegando a un punto en el que las métricas no son buenas para ninguno de los dos casos. Por esta razón, se debe encontrar un compromiso entre el sobreajuste y un rendimiento aceptable.\n",
                "\n",
                "En este caso, teniendo en cuenta que estamos usando **mucho detalle en el parámetro fijo** `min_samples_leaf` parece que la **mejor opción para la profundidad** del árbol de decisión es **8 o 6**."
            ]
        },
        {
            "cell_type": "markdown",
            "metadata": {},
            "source": [
                "### Combinación 2: `max_depth` fijo, `min_samples_leaf` variable:"
            ]
        },
        {
            "cell_type": "markdown",
            "metadata": {},
            "source": [
                "Para esta segunda combinación, se va a tener en cuenta el estudio que se acaba de realizar, donde se ha visto que para el `min_samples_leaf` con el que se estaba trabajando, la mejor `max_depth` era 8 o 6.\n",
                "\n",
                "Considerando que este valor para un número mínimo de muestras en el nodo hoja es muy bajo, se va a apostar por el valor más alto de profundidad y se van a obtener las métricas fijando `max_depth = 8` y variando `min_samples_leaf` de 2 en 2 empezando desde 10:\n",
                "\n"
            ]
        },
        {
            "cell_type": "code",
            "execution_count": 132,
            "metadata": {},
            "outputs": [
                {
                    "name": "stdout",
                    "output_type": "stream",
                    "text": [
                        "Resultados para min_samples_leaf = 10:\n",
                        "            Accuracy        F1       AUC  Precision    Recall  Specificity\n",
                        "Train       0.846645  0.752577  0.811512   0.802198  0.708738     0.914286\n",
                        "Test        0.759494  0.612245  0.710470   0.681818  0.555556     0.865385\n",
                        "Diferencia  0.087152  0.140332  0.101042   0.120380  0.153182     0.048901\n",
                        "--------------------------------------------------\n",
                        "Resultados para min_samples_leaf = 8:\n",
                        "            Accuracy        F1       AUC  Precision    Recall  Specificity\n",
                        "Train       0.862620  0.798122  0.853098   0.772727  0.825243     0.880952\n",
                        "Test        0.696203  0.555556  0.662393   0.555556  0.555556     0.769231\n",
                        "Diferencia  0.166417  0.242567  0.190704   0.217172  0.269687     0.111722\n",
                        "--------------------------------------------------\n",
                        "Resultados para min_samples_leaf = 6:\n",
                        "            Accuracy        F1       AUC  Precision    Recall  Specificity\n",
                        "Train       0.875399  0.807882  0.855201   0.820000  0.796117     0.914286\n",
                        "Test        0.734177  0.571429  0.682336   0.636364  0.518519     0.846154\n",
                        "Diferencia  0.141222  0.236453  0.172865   0.183636  0.277598     0.068132\n",
                        "--------------------------------------------------\n",
                        "Resultados para min_samples_leaf = 4:\n",
                        "            Accuracy        F1       AUC  Precision    Recall  Specificity\n",
                        "Train       0.904153  0.855769  0.893944   0.847619  0.864078     0.923810\n",
                        "Test        0.746835  0.615385  0.709758   0.640000  0.592593     0.826923\n",
                        "Diferencia  0.157318  0.240385  0.184186   0.207619  0.271485     0.096886\n",
                        "--------------------------------------------------\n"
                    ]
                },
                {
                    "name": "stdout",
                    "output_type": "stream",
                    "text": [
                        "Resultados para min_samples_leaf = 2:\n",
                        "            Accuracy        F1       AUC  Precision    Recall  Specificity\n",
                        "Train       0.932907  0.893401  0.912899   0.936170  0.854369     0.971429\n",
                        "Test        0.721519  0.476190  0.637108   0.666667  0.370370     0.903846\n",
                        "Diferencia  0.211388  0.417211  0.275790   0.269504  0.483999     0.067582\n",
                        "--------------------------------------------------\n"
                    ]
                }
            ],
            "source": [
                "# # # COMBINACIÓN 2 - min_samples_leaf variable # # #\n",
                "for leaf in range(10, 1, -2):  # Desde 10 hasta 1\n",
                "\n",
                "    # Se genera y entrena el modelo:\n",
                "    decision_tree = DecisionTreeClassifier(max_depth = 8, min_samples_leaf = leaf, random_state = 42).fit(X_train, y_train);\n",
                "\n",
                "    # Se obtiene la predicción para el conjunto de train:\n",
                "    y_hat_train_tree = decision_tree.predict(X_train);\n",
                "\n",
                "    # Se obtiene la predicción para el conjunto de test:\n",
                "    y_hat_test_tree = decision_tree.predict(X_test);\n",
                "    \n",
                "    # Se obtienen las métricas:\n",
                "    metrics = get_metrics (y_train, y_test, y_hat_train_tree, y_hat_test_tree);\n",
                "    \n",
                "    # Se imprime el número minimo de muestras en el nodo hoja del modelo actual:\n",
                "    print(f\"Resultados para min_samples_leaf = {leaf}:\");\n",
                "\n",
                "    # Se imprimen las métricas para el número minimo de muestras en el nodo hoja del modelo actual:\n",
                "    print(metrics);\n",
                "    print(\"-\" * 50);"
            ]
        },
        {
            "cell_type": "markdown",
            "metadata": {},
            "source": [
                "En este caso se puede ver que mientras que en el **conjunto de entrenamiento**, a **menor número de muestras por nodo hoja, mejores resultados**, en el **conjunto de prueba** llega un momento en el que **se estabilizan las métricas**. Esto implica que, si `min_samples_leaf` es **menor de 6** lo único que se consigue es **sobreajustar** el modelo e incrementar la diferencia entre ambos sets. \n",
                "\n",
                "Por este motivo, se estima que para este conjunto de datos, el **número de muestras mínimo por nodo hoja ha de ser 6**. "
            ]
        },
        {
            "cell_type": "markdown",
            "metadata": {},
            "source": [
                "Finalmente, teniendo en cuenta este breve análisis, se puede estimar que la **optimización de hiperparámetros** para el conjunto de datos que se está utilizando es la siguiente:\n",
                "\n",
                "- `max_depth` : 8\n",
                "\n",
                "- `min_samples_leaf` : 6\n",
                "\n",
                "Las métricas que se obtienen no son las ideales, y aun se podría perfeccionar más el modelo pero dado el análisis realizado, es la mejor de las combinaciones:"
            ]
        },
        {
            "cell_type": "code",
            "execution_count": 133,
            "metadata": {},
            "outputs": [
                {
                    "data": {
                        "text/html": [
                            "<div>\n",
                            "<style scoped>\n",
                            "    .dataframe tbody tr th:only-of-type {\n",
                            "        vertical-align: middle;\n",
                            "    }\n",
                            "\n",
                            "    .dataframe tbody tr th {\n",
                            "        vertical-align: top;\n",
                            "    }\n",
                            "\n",
                            "    .dataframe thead th {\n",
                            "        text-align: right;\n",
                            "    }\n",
                            "</style>\n",
                            "<table border=\"1\" class=\"dataframe\">\n",
                            "  <thead>\n",
                            "    <tr style=\"text-align: right;\">\n",
                            "      <th></th>\n",
                            "      <th>Accuracy</th>\n",
                            "      <th>F1</th>\n",
                            "      <th>AUC</th>\n",
                            "      <th>Precision</th>\n",
                            "      <th>Recall</th>\n",
                            "      <th>Specificity</th>\n",
                            "    </tr>\n",
                            "  </thead>\n",
                            "  <tbody>\n",
                            "    <tr>\n",
                            "      <th>Train</th>\n",
                            "      <td>0.875399</td>\n",
                            "      <td>0.807882</td>\n",
                            "      <td>0.855201</td>\n",
                            "      <td>0.820000</td>\n",
                            "      <td>0.796117</td>\n",
                            "      <td>0.914286</td>\n",
                            "    </tr>\n",
                            "    <tr>\n",
                            "      <th>Test</th>\n",
                            "      <td>0.734177</td>\n",
                            "      <td>0.571429</td>\n",
                            "      <td>0.682336</td>\n",
                            "      <td>0.636364</td>\n",
                            "      <td>0.518519</td>\n",
                            "      <td>0.846154</td>\n",
                            "    </tr>\n",
                            "    <tr>\n",
                            "      <th>Diferencia</th>\n",
                            "      <td>0.141222</td>\n",
                            "      <td>0.236453</td>\n",
                            "      <td>0.172865</td>\n",
                            "      <td>0.183636</td>\n",
                            "      <td>0.277598</td>\n",
                            "      <td>0.068132</td>\n",
                            "    </tr>\n",
                            "  </tbody>\n",
                            "</table>\n",
                            "</div>"
                        ],
                        "text/plain": [
                            "            Accuracy        F1       AUC  Precision    Recall  Specificity\n",
                            "Train       0.875399  0.807882  0.855201   0.820000  0.796117     0.914286\n",
                            "Test        0.734177  0.571429  0.682336   0.636364  0.518519     0.846154\n",
                            "Diferencia  0.141222  0.236453  0.172865   0.183636  0.277598     0.068132"
                        ]
                    },
                    "execution_count": 133,
                    "metadata": {},
                    "output_type": "execute_result"
                }
            ],
            "source": [
                "# # # Decision Tree # # #\n",
                "decision_tree = DecisionTreeClassifier(max_depth = 8, min_samples_leaf = 6, random_state = 42).fit(X_train, y_train);\n",
                "\n",
                "# # # Predicción - Decision Tree Complejo # # #\n",
                "y_hat_train_tree = decision_tree.predict(X_train);\n",
                "y_hat_test_tree = decision_tree.predict(X_test);\n",
                "\n",
                "# # # Métricas - Decision Tree Complejo # # #\n",
                "get_metrics (y_train, y_test, y_hat_train_tree, y_hat_test_tree)"
            ]
        },
        {
            "cell_type": "markdown",
            "metadata": {},
            "source": [
                "## Paso 5 - Estudio Random Forests:"
            ]
        },
        {
            "cell_type": "markdown",
            "metadata": {},
            "source": [
                "Los **bosques aleatorios** (Random Forest) son modelos de aprendizaje supervisado que **combinan múltiples árboles de decisión** para **mejorar la precisión y reducir el sobreajuste**. A diferencia de un solo árbol de decisión, Random Forest construye varios árboles en paralelo utilizando **diferentes subconjuntos de datos y características**, generando de esta forma un modelo más robusto.\n",
                "\n",
                "En este caso, igual que para `Decision Trees` al tener que predecir **si un paciente es o no diabético** (1 o 0), se utilizará un **Random Forest de clasificación**, que permite combinar múltiples predicciones individuales de los árboles para obtener un **resultado final más preciso** mediante técnicas como el voto mayoritario.\n",
                "\n",
                "Para poder definir los **hiperparámetros** de forma correcta, es necesario conocer su utilidad:\n",
                "\n",
                "- `n_estimators` : Número de árboles en el bosque. Un mayor número de árboles suele mejorar el rendimiento, pero aumenta el costo computacional.\n",
                "\n",
                "- `bootstrap` : Indica si se deben muestrear los datos con reemplazo al construir cada árbol, lo que introduce variabilidad y mejora la generalización.\n",
                "\n",
                "- `max_depth` : Controla la profundidad máxima de cada árbol individual dentro del bosque, limitando la complejidad del modelo.\n",
                "\n",
                "- `min_samples_split` : Número mínimo de muestras necesarias para dividir un nodo en cada árbol.\n",
                "\n",
                "- `min_samples_leaf` : Número mínimo de muestras que debe contener un nodo hoja en cada árbol.\n",
                "\n",
                "- `max_features` : Número máximo de características consideradas en cada división, lo que introduce aleatoriedad y ayuda a reducir la correlación entre árboles."
            ]
        },
        {
            "cell_type": "markdown",
            "metadata": {},
            "source": [
                "Teniendo esto en cuenta, para poder evaluar la importancia de una correcta selección de los hiperparámetros, se van a declarar dos tipos de modelos Random Forest:\n",
                "\n",
                "**- Random Forest Sencillo:** Se realiza una predicción en base a un entrenamiento poco exhaustivo, utilizando un número reducido de árboles y características. Esto puede llevar a una tasa de error alta tanto en el conjunto de entrenamiento como en el de test, debido a una falta de generalización.\n",
                "\n",
                "**- Random Forest Complejo:** Se realiza una predicción en base a un entrenamiento demasiado exhaustivo, con un número elevado de árboles y características. Esto puede llevar a un sobreajuste del modelo, es decir, a un aprendizaje a medida para el conjunto de entrenamiento (con una tasa de error muy baja) pero poco generalizado, con una tasa de error alta para el conjunto de test."
            ]
        },
        {
            "cell_type": "markdown",
            "metadata": {},
            "source": [
                "De esta forma, como ya se tiene el conjunto de datos separado en train y test, se puede prodecer a **instanciar y entrenar dos objetos** de la clase `RandomForestClassifier` para poder comenzar a modelar:"
            ]
        },
        {
            "cell_type": "code",
            "execution_count": 134,
            "metadata": {},
            "outputs": [],
            "source": [
                "# # # Random Forest Simple # # #\n",
                "simple_forest = RandomForestClassifier(n_estimators = 5, random_state = 42, max_depth = 3, min_samples_leaf = 10, max_features = X_train.shape[1]//2).fit(X_train, y_train);\n",
                "\n",
                "# # # Random Forest Complejo # # #\n",
                "complex_forest = RandomForestClassifier(n_estimators = 100, random_state = 42, max_depth = 100, min_samples_leaf=1, max_features = int(X_train.shape[1]*0.8)).fit(X_train, y_train);"
            ]
        },
        {
            "cell_type": "markdown",
            "metadata": {},
            "source": [
                "La elección de hiperparámetros para cada uno de los casos ha sido la siguiente:\n",
                "\n",
                "- **Bosque Aleatorio Simple:**  Se ha optado por un **número reducido de árboles en el bosque**, utilizando únicamente 5 estimadores, lo que puede llegar a mermar bastante la capacidad de aprendizaje. En relación al resto de hiperparámetros, se ha decidido **utilizar el mismo número que se empleó para el caso del Árbol de Decisión Simple** para poder así realizar una **comparación**.\n",
                "\n",
                "Por el contrario...\n",
                "\n",
                "- **Bosque Aleatorio Complejo:** Se ha optado por un **mayor número de árboles en el bosque**, empleando un total de 100 estimadores lo que podría proporcionar una mayor capacidad de aprendizaje. En cuanto al resto de hiperparámetros, igual que en el caso anterior, se ha decidido **utilizar el mismo número que se empleó para el caso del Árbol de Decisión Complejo** y poder así realizar una comparación. La única diferencia, en este caso, es el **número de características** que se toman en cada decisión para tratar de **reducir la posible correlación** entre los árboles.  "
            ]
        },
        {
            "cell_type": "code",
            "execution_count": 135,
            "metadata": {},
            "outputs": [],
            "source": [
                "# # # Predicción - Decision Tree Simple # # #\n",
                "y_hat_train_simple_forest = simple_forest.predict(X_train);\n",
                "y_hat_test_simple_forest = simple_forest.predict(X_test);\n",
                "\n",
                "# # # Predicción - Decision Tree Complejo # # #\n",
                "y_hat_train_complex_forest = complex_forest.predict(X_train);\n",
                "y_hat_test_complex_forest = complex_forest.predict(X_test);"
            ]
        },
        {
            "cell_type": "markdown",
            "metadata": {},
            "source": [
                "Finalmente, lo interesante es **analizar las métricas** que aportan cada uno de estos modelos para **evaluar su capacidad predictiva**. Para ello, se va a utilizar la misma función que se empleó en el análisis de Árboles de Decisión donde, dadas las variables objetivo reales y las predichas (para el *train* y *test* set), se pueda obtener cada uno de estos parámetros y los muestre por pantalla.\n",
                "\n",
                "Teniendo todo esto en cuenta, se puede proceder a obtener las métricas para los **dos tipos de Bosques Aleatorios** generados:"
            ]
        },
        {
            "cell_type": "code",
            "execution_count": 136,
            "metadata": {},
            "outputs": [
                {
                    "data": {
                        "text/html": [
                            "<div>\n",
                            "<style scoped>\n",
                            "    .dataframe tbody tr th:only-of-type {\n",
                            "        vertical-align: middle;\n",
                            "    }\n",
                            "\n",
                            "    .dataframe tbody tr th {\n",
                            "        vertical-align: top;\n",
                            "    }\n",
                            "\n",
                            "    .dataframe thead th {\n",
                            "        text-align: right;\n",
                            "    }\n",
                            "</style>\n",
                            "<table border=\"1\" class=\"dataframe\">\n",
                            "  <thead>\n",
                            "    <tr style=\"text-align: right;\">\n",
                            "      <th></th>\n",
                            "      <th>Accuracy</th>\n",
                            "      <th>F1</th>\n",
                            "      <th>AUC</th>\n",
                            "      <th>Precision</th>\n",
                            "      <th>Recall</th>\n",
                            "      <th>Specificity</th>\n",
                            "    </tr>\n",
                            "  </thead>\n",
                            "  <tbody>\n",
                            "    <tr>\n",
                            "      <th>Train</th>\n",
                            "      <td>0.811502</td>\n",
                            "      <td>0.662857</td>\n",
                            "      <td>0.748220</td>\n",
                            "      <td>0.805556</td>\n",
                            "      <td>0.563107</td>\n",
                            "      <td>0.933333</td>\n",
                            "    </tr>\n",
                            "    <tr>\n",
                            "      <th>Test</th>\n",
                            "      <td>0.721519</td>\n",
                            "      <td>0.476190</td>\n",
                            "      <td>0.637108</td>\n",
                            "      <td>0.666667</td>\n",
                            "      <td>0.370370</td>\n",
                            "      <td>0.903846</td>\n",
                            "    </tr>\n",
                            "    <tr>\n",
                            "      <th>Diferencia</th>\n",
                            "      <td>0.089983</td>\n",
                            "      <td>0.186667</td>\n",
                            "      <td>0.111112</td>\n",
                            "      <td>0.138889</td>\n",
                            "      <td>0.192736</td>\n",
                            "      <td>0.029487</td>\n",
                            "    </tr>\n",
                            "  </tbody>\n",
                            "</table>\n",
                            "</div>"
                        ],
                        "text/plain": [
                            "            Accuracy        F1       AUC  Precision    Recall  Specificity\n",
                            "Train       0.811502  0.662857  0.748220   0.805556  0.563107     0.933333\n",
                            "Test        0.721519  0.476190  0.637108   0.666667  0.370370     0.903846\n",
                            "Diferencia  0.089983  0.186667  0.111112   0.138889  0.192736     0.029487"
                        ]
                    },
                    "execution_count": 136,
                    "metadata": {},
                    "output_type": "execute_result"
                }
            ],
            "source": [
                "# # # Métricas - Random Forest Simple # # #\n",
                "get_metrics (y_train, y_test, y_hat_train_simple_forest, y_hat_test_simple_forest)"
            ]
        },
        {
            "cell_type": "markdown",
            "metadata": {},
            "source": [
                "En este caso, al contrario de lo que ocurría para el Árbol de Decisión Simple, las **diferencias obtenidas** entre el conjunto de test y el de train son **menores al 10% **en la mayoría de los casos, lo que podría ser un indicativo de una **ligera mejora de la performance del modelo**, aunque siga siendo **baja** por una elección de hiperparámetros poco exhaustivos. \n",
                "\n",
                "Sin embargo, debido al **desbalance del conjunto de datos**, la principal métrica a estudiar para analizar la capacidad predictiva del modelo el **F1-Score**, sí ha **superado el 10% de diferencia** pero ha **mejorado** en un **3.5%** entre el set de entrenamiento y el de prueba. Si se evalúan los resultados obtenidos para este parámetro, se puede observar que el **rendimiento es similar** en ambos modelos, habiendo variado únicamente un 0.75% para el **conjunto de train**, mientras que sí ha habido una **mejora cercana al 3% para el test set**. \n",
                "\n",
                "Por otro lado, si se estudia el otro parámetro importante en casos de desbalance, la **Sensibilidad** (Recall), también se han dado **mejoras entre un 2% - 5%** para el train y test set respectivamente. \n",
                "\n",
                "Por último, cabe destacar que la Especificidad, especialmente potenciada por la distribución de información en este conjunto de datos ha tenido incrementos significativos, como cabía esperar, sobretodo en el conjunto de prueba, así como en la **Precisión**, donde sí ha habido avances considerables con **incrementos de casi un 10%** en ambos conjuntos de datos. \n"
            ]
        },
        {
            "cell_type": "markdown",
            "metadata": {},
            "source": [
                "Una vez ya estudiados los resultados para el Bosque de Decisión Simple, se puede proceder a analizar el Complejo:"
            ]
        },
        {
            "cell_type": "code",
            "execution_count": 137,
            "metadata": {},
            "outputs": [
                {
                    "data": {
                        "text/html": [
                            "<div>\n",
                            "<style scoped>\n",
                            "    .dataframe tbody tr th:only-of-type {\n",
                            "        vertical-align: middle;\n",
                            "    }\n",
                            "\n",
                            "    .dataframe tbody tr th {\n",
                            "        vertical-align: top;\n",
                            "    }\n",
                            "\n",
                            "    .dataframe thead th {\n",
                            "        text-align: right;\n",
                            "    }\n",
                            "</style>\n",
                            "<table border=\"1\" class=\"dataframe\">\n",
                            "  <thead>\n",
                            "    <tr style=\"text-align: right;\">\n",
                            "      <th></th>\n",
                            "      <th>Accuracy</th>\n",
                            "      <th>F1</th>\n",
                            "      <th>AUC</th>\n",
                            "      <th>Precision</th>\n",
                            "      <th>Recall</th>\n",
                            "      <th>Specificity</th>\n",
                            "    </tr>\n",
                            "  </thead>\n",
                            "  <tbody>\n",
                            "    <tr>\n",
                            "      <th>Train</th>\n",
                            "      <td>1.000000</td>\n",
                            "      <td>1.000000</td>\n",
                            "      <td>1.000000</td>\n",
                            "      <td>1.000</td>\n",
                            "      <td>1.000000</td>\n",
                            "      <td>1.000000</td>\n",
                            "    </tr>\n",
                            "    <tr>\n",
                            "      <th>Test</th>\n",
                            "      <td>0.734177</td>\n",
                            "      <td>0.588235</td>\n",
                            "      <td>0.691239</td>\n",
                            "      <td>0.625</td>\n",
                            "      <td>0.555556</td>\n",
                            "      <td>0.826923</td>\n",
                            "    </tr>\n",
                            "    <tr>\n",
                            "      <th>Diferencia</th>\n",
                            "      <td>0.265823</td>\n",
                            "      <td>0.411765</td>\n",
                            "      <td>0.308761</td>\n",
                            "      <td>0.375</td>\n",
                            "      <td>0.444444</td>\n",
                            "      <td>0.173077</td>\n",
                            "    </tr>\n",
                            "  </tbody>\n",
                            "</table>\n",
                            "</div>"
                        ],
                        "text/plain": [
                            "            Accuracy        F1       AUC  Precision    Recall  Specificity\n",
                            "Train       1.000000  1.000000  1.000000      1.000  1.000000     1.000000\n",
                            "Test        0.734177  0.588235  0.691239      0.625  0.555556     0.826923\n",
                            "Diferencia  0.265823  0.411765  0.308761      0.375  0.444444     0.173077"
                        ]
                    },
                    "execution_count": 137,
                    "metadata": {},
                    "output_type": "execute_result"
                }
            ],
            "source": [
                "# # # Métricas - Random Forest Complejo # # #\n",
                "get_metrics (y_train, y_test, y_hat_train_complex_forest, y_hat_test_complex_forest)"
            ]
        },
        {
            "cell_type": "markdown",
            "metadata": {},
            "source": [
                "Como ya ocurrió en el caso del Árbol de Decisión Complejo, el modelo ha **sobreajustado** hasta conseguir unas **métricas perfectas para el conjunto de entrenamiento** pero bastante **pobres para el de prueba**. \n",
                "\n",
                "Aun así se han obtenido **incrementos significativos** en el *test set*, habiendo **mejorado en casi un 10%** los resultados del **F1-Score** y en un **6**% para la **Sensibilidad**. Sin embargo, como es lógico, las **diferencias entre ambos conjuntos de datos son muy superiores al 10%** al haber generado un **modelo muy detallado** para el conjunto de datos de entrenamiento y **nada generalizable para cualquier otro set**. "
            ]
        },
        {
            "cell_type": "markdown",
            "metadata": {},
            "source": [
                "A continuación, tal y como se hizo para los árboles de decisión, se va a pasar a realizar un análisis **variando dos hiperparámetros** de todos los posibles. En este caso, se han escogido `max_depth` y `n_estimators`, definiendo el resto de ellos a conveniencia. \n",
                "\n",
                "De esta forma, se va a **fijar el valor para uno de ellos**, mientras que **se varíe para el otro** y se van a ir obteniendo las métricas. Con esto se consigue ver **cuál es la influencia de cada parámetro sobre el rendimiento final** y sería algo útil para poder llegar a ajustar el modelo con unos valores de hiperparámetros ideales. \n",
                "\n",
                "Para ello, se va a utilizar un bucle `for` que itere sobre los posibles valores que se deseen probar para cada hiperparámetro, se generará el modelo y se llamará a la función `get_metrics()` para obtener las métricas:"
            ]
        },
        {
            "cell_type": "markdown",
            "metadata": {},
            "source": [
                "### Combinación 1: `max_depth` fijo, `n_estimators` variable:"
            ]
        },
        {
            "cell_type": "markdown",
            "metadata": {},
            "source": [
                "Para esta primera combinación se van a **variar el número de árboles en el bosque**.\n",
                "\n",
                "Se han probado **distintos rangos** y se ha comprobado que el intervalo donde mejores resultados se estaban obteniendo era entre **70 - 35 árboles**. Por **encima de 75** las **diferencias** entre el conjunto de entrenamiento eran **muy elevadas** y, al igual que **por debajo de 35** donde, además, el **rendimiento del modelo era bajo** incluso para el conjunto de entrenamiento.\n",
                "\n",
                "Por este motivo, el **bucle comienza** a dar valores **en 70 y avanza en pasos de 5 en 5 hasta 35**. "
            ]
        },
        {
            "cell_type": "code",
            "execution_count": 138,
            "metadata": {},
            "outputs": [
                {
                    "name": "stdout",
                    "output_type": "stream",
                    "text": [
                        "Resultados para n_estimators = 70:\n",
                        "            Accuracy        F1       AUC  Precision    Recall  Specificity\n",
                        "Train       0.891374  0.824742  0.862159   0.879121  0.776699     0.947619\n",
                        "Test        0.746835  0.600000  0.700855   0.652174  0.555556     0.846154\n",
                        "Diferencia  0.144538  0.224742  0.161304   0.226947  0.221143     0.101465\n",
                        "--------------------------------------------------\n",
                        "Resultados para n_estimators = 65:\n",
                        "            Accuracy        F1       AUC  Precision    Recall  Specificity\n",
                        "Train       0.884984  0.810526  0.849977   0.885057  0.747573     0.952381\n",
                        "Test        0.746835  0.615385  0.709758   0.640000  0.592593     0.826923\n",
                        "Diferencia  0.138149  0.195142  0.140219   0.245057  0.154980     0.125458\n",
                        "--------------------------------------------------\n",
                        "Resultados para n_estimators = 60:\n",
                        "            Accuracy        F1       AUC  Precision    Recall  Specificity\n",
                        "Train       0.891374  0.821053  0.857212   0.896552  0.757282     0.957143\n",
                        "Test        0.721519  0.560000  0.672721   0.608696  0.518519     0.826923\n",
                        "Diferencia  0.169855  0.261053  0.184491   0.287856  0.238763     0.130220\n",
                        "--------------------------------------------------\n",
                        "Resultados para n_estimators = 55:\n",
                        "            Accuracy        F1       AUC  Precision    Recall  Specificity\n",
                        "Train       0.894569  0.827225  0.862067   0.897727  0.766990     0.957143\n",
                        "Test        0.734177  0.571429  0.682336   0.636364  0.518519     0.846154\n",
                        "Diferencia  0.160391  0.255797  0.179730   0.261364  0.248472     0.110989\n",
                        "--------------------------------------------------\n",
                        "Resultados para n_estimators = 50:\n",
                        "            Accuracy        F1       AUC  Precision    Recall  Specificity\n",
                        "Train       0.894569  0.827225  0.862067   0.897727  0.766990     0.957143\n",
                        "Test        0.721519  0.541667  0.663818   0.619048  0.481481     0.846154\n",
                        "Diferencia  0.173050  0.285558  0.198249   0.278680  0.285509     0.110989\n",
                        "--------------------------------------------------\n",
                        "Resultados para n_estimators = 45:\n",
                        "            Accuracy        F1       AUC  Precision    Recall  Specificity\n",
                        "Train       0.888179  0.816754  0.854831   0.886364  0.757282     0.952381\n",
                        "Test        0.734177  0.571429  0.682336   0.636364  0.518519     0.846154\n",
                        "Diferencia  0.154002  0.245325  0.172495   0.250000  0.238763     0.106227\n",
                        "--------------------------------------------------\n",
                        "Resultados para n_estimators = 40:\n",
                        "            Accuracy        F1       AUC  Precision    Recall  Specificity\n",
                        "Train       0.891374  0.821053  0.857212   0.896552  0.757282     0.957143\n",
                        "Test        0.734177  0.571429  0.682336   0.636364  0.518519     0.846154\n",
                        "Diferencia  0.157197  0.249624  0.174876   0.260188  0.238763     0.110989\n",
                        "--------------------------------------------------\n"
                    ]
                }
            ],
            "source": [
                "# # # COMBINACIÓN 1 - n_estimators variable # # #\n",
                "for n_trees in range(70, 35, -5): \n",
                "\n",
                "    # Se genera y entrena el modelo:\n",
                "    random_forest = RandomForestClassifier(n_estimators = n_trees, random_state = 42, max_depth = 20, min_samples_leaf = 6, max_features = int(X_train.shape[1]*0.8)).fit(X_train, y_train);\n",
                "\n",
                "    # Se obtiene la predicción para el conjunto de train:\n",
                "    y_hat_train_forest = random_forest.predict(X_train);\n",
                "\n",
                "    # Se obtiene la predicción para el conjunto de test:\n",
                "    y_hat_test_forest = random_forest.predict(X_test);\n",
                "    \n",
                "    # Se obtienen las métricas:\n",
                "    metrics = get_metrics (y_train, y_test, y_hat_train_forest, y_hat_test_forest);\n",
                "    \n",
                "    # Se imprime la profundidad del modelo actual:\n",
                "    print(f\"Resultados para n_estimators = {n_trees}:\");\n",
                "\n",
                "    # Se imprimen las métricas para el número de árboles actual:\n",
                "    print(metrics);\n",
                "    print(\"-\" * 50)"
            ]
        },
        {
            "cell_type": "markdown",
            "metadata": {},
            "source": [
                "Como se ha mencionado, tras pobrar distintos intervalos, el rango estudiado es el que obtenía menores diferencias entre el conjunto de entrenamiento y el de prueba. \n",
                "\n",
                "Dentro de todos los posibles `n_estimators` el número de árboles que parece más apropiado, es 45 árboles por bosque. \n",
                "\n",
                "En este caso, algo que ha podido **influir en el desarrollo del modelo** es que se ha definido el parámetro `min_samples_leaf` con el **valor estudiado** previamente para el análisis de los árboles de decisión. Si este **hiperparémtro hubiese sido menor**, se habría dado un **sobreajuste** mucho más significativo, teniendo resultados como los vistos anteriormente donde todo el conjunto de entrenamiento habría sido predicho a la perfección. \n"
            ]
        },
        {
            "cell_type": "markdown",
            "metadata": {},
            "source": [
                "### Combinación 2: `max_depth` variable, `n_estimators` fijo:"
            ]
        },
        {
            "cell_type": "markdown",
            "metadata": {},
            "source": [
                "Para esta segunda combinación se van a **variar los valores de la profundidad del árbol**, teniendo fijo el `n_estimators` a 45 árboles tal y como se ha evaluado en la combinación anterior.\n",
                "\n",
                "Se han probado **distintos rangos** y se ha comprobado que las **métricas no variaban** en ningún decimal para ninguno de los dos conjuntos **hasta llegar a los 12 escalones de profundidad**.\n",
                "\n",
                "Por este motivo, el **bucle comienza** a dar valores **en 12 y avanza en pasos de 2**. "
            ]
        },
        {
            "cell_type": "code",
            "execution_count": 139,
            "metadata": {},
            "outputs": [
                {
                    "name": "stdout",
                    "output_type": "stream",
                    "text": [
                        "Resultados para max_depth = 12:\n",
                        "            Accuracy        F1       AUC  Precision    Recall  Specificity\n",
                        "Train       0.888179  0.816754  0.854831   0.886364  0.757282     0.952381\n",
                        "Test        0.734177  0.571429  0.682336   0.636364  0.518519     0.846154\n",
                        "Diferencia  0.154002  0.245325  0.172495   0.250000  0.238763     0.106227\n",
                        "--------------------------------------------------\n",
                        "Resultados para max_depth = 10:\n",
                        "            Accuracy        F1       AUC  Precision    Recall  Specificity\n",
                        "Train       0.888179  0.816754  0.854831   0.886364  0.757282     0.952381\n",
                        "Test        0.734177  0.571429  0.682336   0.636364  0.518519     0.846154\n",
                        "Diferencia  0.154002  0.245325  0.172495   0.250000  0.238763     0.106227\n",
                        "--------------------------------------------------\n",
                        "Resultados para max_depth = 8:\n",
                        "            Accuracy        F1       AUC  Precision    Recall  Specificity\n",
                        "Train       0.888179  0.814815  0.852358   0.895349  0.747573     0.957143\n",
                        "Test        0.734177  0.571429  0.682336   0.636364  0.518519     0.846154\n",
                        "Diferencia  0.154002  0.243386  0.170022   0.258985  0.229054     0.110989\n",
                        "--------------------------------------------------\n",
                        "Resultados para max_depth = 6:\n",
                        "            Accuracy        F1       AUC  Precision    Recall  Specificity\n",
                        "Train       0.891374  0.821053  0.857212   0.896552  0.757282     0.957143\n",
                        "Test        0.708861  0.530612  0.654202   0.590909  0.481481     0.826923\n",
                        "Diferencia  0.182513  0.290440  0.203010   0.305643  0.275800     0.130220\n",
                        "--------------------------------------------------\n",
                        "Resultados para max_depth = 4:\n",
                        "            Accuracy        F1       AUC  Precision    Recall  Specificity\n",
                        "Train       0.856230  0.748603  0.803814   0.881579  0.650485     0.957143\n",
                        "Test        0.721519  0.541667  0.663818   0.619048  0.481481     0.846154\n",
                        "Diferencia  0.134711  0.206937  0.139996   0.262531  0.169004     0.110989\n",
                        "--------------------------------------------------\n",
                        "Resultados para max_depth = 2:\n",
                        "            Accuracy        F1       AUC  Precision    Recall  Specificity\n",
                        "Train       0.795527  0.636364  0.731368   0.767123  0.543689     0.919048\n",
                        "Test        0.683544  0.390244  0.590456   0.571429  0.296296     0.884615\n",
                        "Diferencia  0.111983  0.246120  0.140913   0.195695  0.247393     0.034432\n",
                        "--------------------------------------------------\n"
                    ]
                }
            ],
            "source": [
                "# # # COMBINACIÓN 2 - max_depth variable # # #\n",
                "for depth in range(12, 1, -2): \n",
                "\n",
                "    # Se genera y entrena el modelo:\n",
                "    random_forest = RandomForestClassifier(n_estimators = 45, random_state = 42, max_depth = depth, min_samples_leaf = 6, max_features = int(X_train.shape[1]*0.8)).fit(X_train, y_train);\n",
                "\n",
                "    # Se obtiene la predicción para el conjunto de train:\n",
                "    y_hat_train_forest = random_forest.predict(X_train);\n",
                "\n",
                "    # Se obtiene la predicción para el conjunto de test:\n",
                "    y_hat_test_forest = random_forest.predict(X_test);\n",
                "    \n",
                "    # Se obtienen las métricas:\n",
                "    metrics = get_metrics (y_train, y_test, y_hat_train_forest, y_hat_test_forest);\n",
                "    \n",
                "    # Se imprime la profundidad del modelo actual:\n",
                "    print(f\"Resultados para max_depth = {depth}:\");\n",
                "\n",
                "    # Se imprimen las métricas para la profundidad actual:\n",
                "    print(metrics);\n",
                "    print(\"-\" * 50)"
            ]
        },
        {
            "cell_type": "markdown",
            "metadata": {},
            "source": [
                "A medida que se va **reduciendo la profundidad**, el **rendimiento** va también **bajando** y se **aumenta la diferencia** con respecto al conjunto de prueba. \n",
                "\n",
                "Por esta razón, se opta por un **detalle medio en la profundidad** y se define como mejor opción para el **hiperparámetro** `max_depth` un total de **12 niveles** en cada árbol estimador del bosque. "
            ]
        },
        {
            "cell_type": "markdown",
            "metadata": {},
            "source": [
                "Finalmente, teniendo en cuenta este breve análisis, se puede estimar que la **optimización de hiperparámetros** para el conjunto de datos que se está utilizando es la siguiente:\n",
                "\n",
                "- `n_estimador` : 45\n",
                "- `max_depth` : 12\n",
                "\n",
                "Las métricas que se obtienen no son las ideales, y aun se podría perfeccionar más el modelo pero dado el análisis realizado, es la mejor de las combinaciones:"
            ]
        },
        {
            "cell_type": "code",
            "execution_count": 140,
            "metadata": {},
            "outputs": [
                {
                    "data": {
                        "text/html": [
                            "<div>\n",
                            "<style scoped>\n",
                            "    .dataframe tbody tr th:only-of-type {\n",
                            "        vertical-align: middle;\n",
                            "    }\n",
                            "\n",
                            "    .dataframe tbody tr th {\n",
                            "        vertical-align: top;\n",
                            "    }\n",
                            "\n",
                            "    .dataframe thead th {\n",
                            "        text-align: right;\n",
                            "    }\n",
                            "</style>\n",
                            "<table border=\"1\" class=\"dataframe\">\n",
                            "  <thead>\n",
                            "    <tr style=\"text-align: right;\">\n",
                            "      <th></th>\n",
                            "      <th>Accuracy</th>\n",
                            "      <th>F1</th>\n",
                            "      <th>AUC</th>\n",
                            "      <th>Precision</th>\n",
                            "      <th>Recall</th>\n",
                            "      <th>Specificity</th>\n",
                            "    </tr>\n",
                            "  </thead>\n",
                            "  <tbody>\n",
                            "    <tr>\n",
                            "      <th>Train</th>\n",
                            "      <td>0.888179</td>\n",
                            "      <td>0.816754</td>\n",
                            "      <td>0.854831</td>\n",
                            "      <td>0.886364</td>\n",
                            "      <td>0.757282</td>\n",
                            "      <td>0.952381</td>\n",
                            "    </tr>\n",
                            "    <tr>\n",
                            "      <th>Test</th>\n",
                            "      <td>0.734177</td>\n",
                            "      <td>0.571429</td>\n",
                            "      <td>0.682336</td>\n",
                            "      <td>0.636364</td>\n",
                            "      <td>0.518519</td>\n",
                            "      <td>0.846154</td>\n",
                            "    </tr>\n",
                            "    <tr>\n",
                            "      <th>Diferencia</th>\n",
                            "      <td>0.154002</td>\n",
                            "      <td>0.245325</td>\n",
                            "      <td>0.172495</td>\n",
                            "      <td>0.250000</td>\n",
                            "      <td>0.238763</td>\n",
                            "      <td>0.106227</td>\n",
                            "    </tr>\n",
                            "  </tbody>\n",
                            "</table>\n",
                            "</div>"
                        ],
                        "text/plain": [
                            "            Accuracy        F1       AUC  Precision    Recall  Specificity\n",
                            "Train       0.888179  0.816754  0.854831   0.886364  0.757282     0.952381\n",
                            "Test        0.734177  0.571429  0.682336   0.636364  0.518519     0.846154\n",
                            "Diferencia  0.154002  0.245325  0.172495   0.250000  0.238763     0.106227"
                        ]
                    },
                    "execution_count": 140,
                    "metadata": {},
                    "output_type": "execute_result"
                }
            ],
            "source": [
                "# # # Random Forest # # #\n",
                "random_forest = RandomForestClassifier(n_estimators = 45, random_state = 42, max_depth = 12, min_samples_leaf = 6, max_features = int(X_train.shape[1]*0.8)).fit(X_train, y_train);\n",
                "\n",
                "# Se obtiene la predicción para el conjunto de train:\n",
                "y_hat_train_forest = random_forest.predict(X_train);\n",
                "\n",
                "# Se obtiene la predicción para el conjunto de test:\n",
                "y_hat_test_forest = random_forest.predict(X_test);\n",
                "\n",
                "# Se obtienen las métricas:\n",
                "get_metrics (y_train, y_test, y_hat_train_forest, y_hat_test_forest)"
            ]
        },
        {
            "cell_type": "markdown",
            "metadata": {},
            "source": [
                "Finalmente, para tratar de obtener la mejor optimización de hiperparámetros, se van a estudiar dos técnicas:\n",
                "\n",
                "- GridSearch (Búsqueda por cuadrícula)\n",
                "- RandomSearch (Búsqueda Aleatoria)"
            ]
        },
        {
            "cell_type": "markdown",
            "metadata": {},
            "source": [
                "### Optimización 1 - GridSearch:"
            ]
        },
        {
            "cell_type": "markdown",
            "metadata": {},
            "source": [
                "Esta técnica de **optimización de hiperparámetros** diseña una **malla con las posibles combinaciones** para los posibles valores de cada hiperparámetro. Posteriormente, realiza una **validación cruzada** de forma que se dividen los datos en múltiples particiones y se entrena en ellas y se valida con el resto para poder promediar los resultados obtenidos. \n",
                "\n",
                "Para poder utilizarlo, es necesario, por lo tanto, definir el espacio de búsqueda para cada uno de los hiperparámetros que se han tenido en cuenta a lo largo de todo el estudio:"
            ]
        },
        {
            "cell_type": "code",
            "execution_count": 141,
            "metadata": {},
            "outputs": [
                {
                    "name": "stdout",
                    "output_type": "stream",
                    "text": [
                        "Fitting 5 folds for each of 216 candidates, totalling 1080 fits\n",
                        "Mejores hiperparámetros: {'bootstrap': True, 'max_depth': None, 'min_samples_leaf': 2, 'min_samples_split': 10, 'n_estimators': 100}\n"
                    ]
                },
                {
                    "data": {
                        "text/html": [
                            "<div>\n",
                            "<style scoped>\n",
                            "    .dataframe tbody tr th:only-of-type {\n",
                            "        vertical-align: middle;\n",
                            "    }\n",
                            "\n",
                            "    .dataframe tbody tr th {\n",
                            "        vertical-align: top;\n",
                            "    }\n",
                            "\n",
                            "    .dataframe thead th {\n",
                            "        text-align: right;\n",
                            "    }\n",
                            "</style>\n",
                            "<table border=\"1\" class=\"dataframe\">\n",
                            "  <thead>\n",
                            "    <tr style=\"text-align: right;\">\n",
                            "      <th></th>\n",
                            "      <th>Accuracy</th>\n",
                            "      <th>F1</th>\n",
                            "      <th>AUC</th>\n",
                            "      <th>Precision</th>\n",
                            "      <th>Recall</th>\n",
                            "      <th>Specificity</th>\n",
                            "    </tr>\n",
                            "  </thead>\n",
                            "  <tbody>\n",
                            "    <tr>\n",
                            "      <th>Train</th>\n",
                            "      <td>0.929712</td>\n",
                            "      <td>0.887755</td>\n",
                            "      <td>0.908044</td>\n",
                            "      <td>0.935484</td>\n",
                            "      <td>0.844660</td>\n",
                            "      <td>0.971429</td>\n",
                            "    </tr>\n",
                            "    <tr>\n",
                            "      <th>Test</th>\n",
                            "      <td>0.759494</td>\n",
                            "      <td>0.595745</td>\n",
                            "      <td>0.701567</td>\n",
                            "      <td>0.700000</td>\n",
                            "      <td>0.518519</td>\n",
                            "      <td>0.884615</td>\n",
                            "    </tr>\n",
                            "    <tr>\n",
                            "      <th>Diferencia</th>\n",
                            "      <td>0.170219</td>\n",
                            "      <td>0.292010</td>\n",
                            "      <td>0.206477</td>\n",
                            "      <td>0.235484</td>\n",
                            "      <td>0.326142</td>\n",
                            "      <td>0.086813</td>\n",
                            "    </tr>\n",
                            "  </tbody>\n",
                            "</table>\n",
                            "</div>"
                        ],
                        "text/plain": [
                            "            Accuracy        F1       AUC  Precision    Recall  Specificity\n",
                            "Train       0.929712  0.887755  0.908044   0.935484  0.844660     0.971429\n",
                            "Test        0.759494  0.595745  0.701567   0.700000  0.518519     0.884615\n",
                            "Diferencia  0.170219  0.292010  0.206477   0.235484  0.326142     0.086813"
                        ]
                    },
                    "execution_count": 141,
                    "metadata": {},
                    "output_type": "execute_result"
                }
            ],
            "source": [
                "# Se define el modelo de forma general: \n",
                "random_forest = RandomForestClassifier(random_state = 42);\n",
                "\n",
                "# Se define el espacio de búsqueda de hiperparámetros: \n",
                "grid_parameters = {\n",
                "    'n_estimators': [100, 200, 300],\n",
                "    'max_depth': [None, 10, 20, 30],\n",
                "    'min_samples_split': [2, 5, 10],\n",
                "    'min_samples_leaf': [1, 2, 4],\n",
                "    'bootstrap': [True, False]\n",
                "};\n",
                "\n",
                "# Se configura la búsqueda en malla con la validación cruzada:\n",
                "grid_search = GridSearchCV(estimator = random_forest, param_grid = grid_parameters, cv = 5, n_jobs = -1, verbose = 1);\n",
                "\n",
                "# Se ajusta el modelo con los datos de entrenamiento\n",
                "grid_search.fit(X_train, y_train);\n",
                "\n",
                "# Se muestran los mejores hiperparámetros encontrados los mejores hiperparámetros encontrados\n",
                "print(f\"Mejores hiperparámetros: {grid_search.best_params_}\");\n",
                "\n",
                "# Se evalúa el mejor modelo:\n",
                "best_random_forest = grid_search.best_estimator_;\n",
                "\n",
                "# Se obtiene la predicción para el conjunto de train:\n",
                "y_hat_train_forest = best_random_forest.predict(X_train);\n",
                "\n",
                "# Se obtiene la predicción para el conjunto de test:\n",
                "y_hat_test_forest = best_random_forest.predict(X_test);\n",
                "\n",
                "# Se obtienen las métricas:\n",
                "get_metrics (y_train, y_test, y_hat_train_forest, y_hat_test_forest)"
            ]
        },
        {
            "cell_type": "markdown",
            "metadata": {},
            "source": [
                "Si se estudian las **métricas interesantes para el conjunto de datos desbalanceado**, se puede comprobar que con esta técnica de optimización de parámetros se han conseguido **resultados muy similaress a los obtenidos mediante la evaluación de hiperparámetros de forma manual**. "
            ]
        },
        {
            "cell_type": "markdown",
            "metadata": {},
            "source": [
                "Se va a probar **otro espacio de búsqueda** considerando los hiperparámetros encontrados como óptimos de forma manual. "
            ]
        },
        {
            "cell_type": "code",
            "execution_count": 142,
            "metadata": {},
            "outputs": [
                {
                    "name": "stdout",
                    "output_type": "stream",
                    "text": [
                        "Fitting 5 folds for each of 72 candidates, totalling 360 fits\n",
                        "Mejores hiperparámetros: {'bootstrap': True, 'max_depth': 12, 'min_samples_leaf': 2, 'n_estimators': 30}\n"
                    ]
                },
                {
                    "data": {
                        "text/html": [
                            "<div>\n",
                            "<style scoped>\n",
                            "    .dataframe tbody tr th:only-of-type {\n",
                            "        vertical-align: middle;\n",
                            "    }\n",
                            "\n",
                            "    .dataframe tbody tr th {\n",
                            "        vertical-align: top;\n",
                            "    }\n",
                            "\n",
                            "    .dataframe thead th {\n",
                            "        text-align: right;\n",
                            "    }\n",
                            "</style>\n",
                            "<table border=\"1\" class=\"dataframe\">\n",
                            "  <thead>\n",
                            "    <tr style=\"text-align: right;\">\n",
                            "      <th></th>\n",
                            "      <th>Accuracy</th>\n",
                            "      <th>F1</th>\n",
                            "      <th>AUC</th>\n",
                            "      <th>Precision</th>\n",
                            "      <th>Recall</th>\n",
                            "      <th>Specificity</th>\n",
                            "    </tr>\n",
                            "  </thead>\n",
                            "  <tbody>\n",
                            "    <tr>\n",
                            "      <th>Train</th>\n",
                            "      <td>0.964856</td>\n",
                            "      <td>0.944162</td>\n",
                            "      <td>0.949075</td>\n",
                            "      <td>0.989362</td>\n",
                            "      <td>0.902913</td>\n",
                            "      <td>0.995238</td>\n",
                            "    </tr>\n",
                            "    <tr>\n",
                            "      <th>Test</th>\n",
                            "      <td>0.734177</td>\n",
                            "      <td>0.533333</td>\n",
                            "      <td>0.664530</td>\n",
                            "      <td>0.666667</td>\n",
                            "      <td>0.444444</td>\n",
                            "      <td>0.884615</td>\n",
                            "    </tr>\n",
                            "    <tr>\n",
                            "      <th>Diferencia</th>\n",
                            "      <td>0.230679</td>\n",
                            "      <td>0.410829</td>\n",
                            "      <td>0.284545</td>\n",
                            "      <td>0.322695</td>\n",
                            "      <td>0.458468</td>\n",
                            "      <td>0.110623</td>\n",
                            "    </tr>\n",
                            "  </tbody>\n",
                            "</table>\n",
                            "</div>"
                        ],
                        "text/plain": [
                            "            Accuracy        F1       AUC  Precision    Recall  Specificity\n",
                            "Train       0.964856  0.944162  0.949075   0.989362  0.902913     0.995238\n",
                            "Test        0.734177  0.533333  0.664530   0.666667  0.444444     0.884615\n",
                            "Diferencia  0.230679  0.410829  0.284545   0.322695  0.458468     0.110623"
                        ]
                    },
                    "execution_count": 142,
                    "metadata": {},
                    "output_type": "execute_result"
                }
            ],
            "source": [
                "# Se define el modelo de forma general: \n",
                "random_forest = RandomForestClassifier(random_state = 42);\n",
                "\n",
                "# Se define el espacio de búsqueda de hiperparámetros: \n",
                "grid_parameters = {\n",
                "    'n_estimators': [30, 45, 60],\n",
                "    'max_depth': [10, 12, 14, 16],\n",
                "    'min_samples_leaf': [1, 2, 4],\n",
                "    'bootstrap': [True, False]\n",
                "};\n",
                "\n",
                "# Se configura la búsqueda en malla con la validación cruzada:\n",
                "grid_search = GridSearchCV(estimator = random_forest, param_grid = grid_parameters, cv = 5, n_jobs = -1, verbose = 1);\n",
                "\n",
                "# Se ajusta el modelo con los datos de entrenamiento\n",
                "grid_search.fit(X_train, y_train);\n",
                "\n",
                "# Se muestran los mejores hiperparámetros encontrados los mejores hiperparámetros encontrados\n",
                "print(f\"Mejores hiperparámetros: {grid_search.best_params_}\");\n",
                "\n",
                "# Se evalúa el mejor modelo:\n",
                "best_random_forest = grid_search.best_estimator_;\n",
                "\n",
                "# Se obtiene la predicción para el conjunto de train:\n",
                "y_hat_train_forest = best_random_forest.predict(X_train);\n",
                "\n",
                "# Se obtiene la predicción para el conjunto de test:\n",
                "y_hat_test_forest = best_random_forest.predict(X_test);\n",
                "\n",
                "# Se obtienen las métricas:\n",
                "get_metrics (y_train, y_test, y_hat_train_forest, y_hat_test_forest)"
            ]
        },
        {
            "cell_type": "markdown",
            "metadata": {},
            "source": [
                "En este caso, las métricas para el conjunto de datos de entrenamiento han mejorado considerablemete, sin emabargo, esto ha venido influido por el **gran sobreajuste** que ha sufrido el modelo, teniendo diferencias muy grandes entre ambas particiones. "
            ]
        },
        {
            "cell_type": "markdown",
            "metadata": {},
            "source": [
                "## Optimización 2 - RandomizedSearch:"
            ]
        },
        {
            "cell_type": "markdown",
            "metadata": {},
            "source": [
                "Esta técnica de optimización **selecciona combinaciones aleatorias de los valores posibles** para cada hiperparámetro dentro de un espacio definido durante la declaración del modelo. Posteriormente, igual que pasaba con GridSearch, se realiza una **validación cruzada**, diviendo los datos en mútiples particiones. "
            ]
        },
        {
            "cell_type": "code",
            "execution_count": 143,
            "metadata": {},
            "outputs": [
                {
                    "name": "stdout",
                    "output_type": "stream",
                    "text": [
                        "Fitting 5 folds for each of 100 candidates, totalling 500 fits\n",
                        "Mejores hiperparámetros: {'bootstrap': True, 'max_depth': None, 'min_samples_leaf': 2, 'min_samples_split': 8, 'n_estimators': 125}\n"
                    ]
                },
                {
                    "data": {
                        "text/html": [
                            "<div>\n",
                            "<style scoped>\n",
                            "    .dataframe tbody tr th:only-of-type {\n",
                            "        vertical-align: middle;\n",
                            "    }\n",
                            "\n",
                            "    .dataframe tbody tr th {\n",
                            "        vertical-align: top;\n",
                            "    }\n",
                            "\n",
                            "    .dataframe thead th {\n",
                            "        text-align: right;\n",
                            "    }\n",
                            "</style>\n",
                            "<table border=\"1\" class=\"dataframe\">\n",
                            "  <thead>\n",
                            "    <tr style=\"text-align: right;\">\n",
                            "      <th></th>\n",
                            "      <th>Accuracy</th>\n",
                            "      <th>F1</th>\n",
                            "      <th>AUC</th>\n",
                            "      <th>Precision</th>\n",
                            "      <th>Recall</th>\n",
                            "      <th>Specificity</th>\n",
                            "    </tr>\n",
                            "  </thead>\n",
                            "  <tbody>\n",
                            "    <tr>\n",
                            "      <th>Train</th>\n",
                            "      <td>0.939297</td>\n",
                            "      <td>0.904523</td>\n",
                            "      <td>0.922607</td>\n",
                            "      <td>0.937500</td>\n",
                            "      <td>0.873786</td>\n",
                            "      <td>0.971429</td>\n",
                            "    </tr>\n",
                            "    <tr>\n",
                            "      <th>Test</th>\n",
                            "      <td>0.759494</td>\n",
                            "      <td>0.612245</td>\n",
                            "      <td>0.710470</td>\n",
                            "      <td>0.681818</td>\n",
                            "      <td>0.555556</td>\n",
                            "      <td>0.865385</td>\n",
                            "    </tr>\n",
                            "    <tr>\n",
                            "      <th>Diferencia</th>\n",
                            "      <td>0.179803</td>\n",
                            "      <td>0.292278</td>\n",
                            "      <td>0.212137</td>\n",
                            "      <td>0.255682</td>\n",
                            "      <td>0.318231</td>\n",
                            "      <td>0.106044</td>\n",
                            "    </tr>\n",
                            "  </tbody>\n",
                            "</table>\n",
                            "</div>"
                        ],
                        "text/plain": [
                            "            Accuracy        F1       AUC  Precision    Recall  Specificity\n",
                            "Train       0.939297  0.904523  0.922607   0.937500  0.873786     0.971429\n",
                            "Test        0.759494  0.612245  0.710470   0.681818  0.555556     0.865385\n",
                            "Diferencia  0.179803  0.292278  0.212137   0.255682  0.318231     0.106044"
                        ]
                    },
                    "execution_count": 143,
                    "metadata": {},
                    "output_type": "execute_result"
                }
            ],
            "source": [
                "# Se define el modelo de forma general: \n",
                "random_forest = RandomForestClassifier(random_state = 42);\n",
                "\n",
                "# Se define el espacio de búsqueda de hiperparámetros: \n",
                "grid_parameters = {\n",
                "    'n_estimators': randint(30, 100),\n",
                "    'max_depth': [None, 10, 20, 30],\n",
                "    'min_samples_split': randint(2, 10),\n",
                "    'min_samples_leaf': randint(1, 4),\n",
                "    'bootstrap': [True, False]\n",
                "};\n",
                "\n",
                "# Se configura la búsqueda en malla con la validación cruzada:\n",
                "grid_search = RandomizedSearchCV(estimator = random_forest, param_distributions = grid_parameters, n_iter = 100, cv = 5, n_jobs = -1, verbose = 1, random_state = 42);\n",
                "\n",
                "# Se ajusta el modelo con los datos de entrenamiento\n",
                "grid_search.fit(X_train, y_train);\n",
                "\n",
                "# Se muestran los mejores hiperparámetros encontrados los mejores hiperparámetros encontrados\n",
                "print(f\"Mejores hiperparámetros: {grid_search.best_params_}\");\n",
                "\n",
                "# Se evalúa el mejor modelo:\n",
                "best_random_forest = grid_search.best_estimator_;\n",
                "\n",
                "# Se obtiene la predicción para el conjunto de train:\n",
                "y_hat_train_forest = best_random_forest.predict(X_train);\n",
                "\n",
                "# Se obtiene la predicción para el conjunto de test:\n",
                "y_hat_test_forest = best_random_forest.predict(X_test);\n",
                "\n",
                "# Se obtienen las métricas:\n",
                "get_metrics (y_train, y_test, y_hat_train_forest, y_hat_test_forest)"
            ]
        },
        {
            "cell_type": "code",
            "execution_count": 144,
            "metadata": {},
            "outputs": [
                {
                    "name": "stdout",
                    "output_type": "stream",
                    "text": [
                        "Fitting 5 folds for each of 100 candidates, totalling 500 fits\n",
                        "Mejores hiperparámetros: {'bootstrap': True, 'max_depth': 10, 'min_samples_leaf': 3, 'min_samples_split': 8, 'n_estimators': 38}\n"
                    ]
                },
                {
                    "data": {
                        "text/html": [
                            "<div>\n",
                            "<style scoped>\n",
                            "    .dataframe tbody tr th:only-of-type {\n",
                            "        vertical-align: middle;\n",
                            "    }\n",
                            "\n",
                            "    .dataframe tbody tr th {\n",
                            "        vertical-align: top;\n",
                            "    }\n",
                            "\n",
                            "    .dataframe thead th {\n",
                            "        text-align: right;\n",
                            "    }\n",
                            "</style>\n",
                            "<table border=\"1\" class=\"dataframe\">\n",
                            "  <thead>\n",
                            "    <tr style=\"text-align: right;\">\n",
                            "      <th></th>\n",
                            "      <th>Accuracy</th>\n",
                            "      <th>F1</th>\n",
                            "      <th>AUC</th>\n",
                            "      <th>Precision</th>\n",
                            "      <th>Recall</th>\n",
                            "      <th>Specificity</th>\n",
                            "    </tr>\n",
                            "  </thead>\n",
                            "  <tbody>\n",
                            "    <tr>\n",
                            "      <th>Train</th>\n",
                            "      <td>0.932907</td>\n",
                            "      <td>0.892308</td>\n",
                            "      <td>0.910425</td>\n",
                            "      <td>0.945652</td>\n",
                            "      <td>0.844660</td>\n",
                            "      <td>0.976190</td>\n",
                            "    </tr>\n",
                            "    <tr>\n",
                            "      <th>Test</th>\n",
                            "      <td>0.759494</td>\n",
                            "      <td>0.641509</td>\n",
                            "      <td>0.728276</td>\n",
                            "      <td>0.653846</td>\n",
                            "      <td>0.629630</td>\n",
                            "      <td>0.826923</td>\n",
                            "    </tr>\n",
                            "    <tr>\n",
                            "      <th>Diferencia</th>\n",
                            "      <td>0.173414</td>\n",
                            "      <td>0.250798</td>\n",
                            "      <td>0.182149</td>\n",
                            "      <td>0.291806</td>\n",
                            "      <td>0.215031</td>\n",
                            "      <td>0.149267</td>\n",
                            "    </tr>\n",
                            "  </tbody>\n",
                            "</table>\n",
                            "</div>"
                        ],
                        "text/plain": [
                            "            Accuracy        F1       AUC  Precision    Recall  Specificity\n",
                            "Train       0.932907  0.892308  0.910425   0.945652  0.844660     0.976190\n",
                            "Test        0.759494  0.641509  0.728276   0.653846  0.629630     0.826923\n",
                            "Diferencia  0.173414  0.250798  0.182149   0.291806  0.215031     0.149267"
                        ]
                    },
                    "execution_count": 144,
                    "metadata": {},
                    "output_type": "execute_result"
                }
            ],
            "source": [
                "# Se define el modelo de forma general: \n",
                "random_forest = RandomForestClassifier(random_state = 42);\n",
                "\n",
                "# Se define el espacio de búsqueda de hiperparámetros: \n",
                "grid_parameters = {\n",
                "    'n_estimators': randint(30, 100),\n",
                "    'max_depth': [10, 12, 14, 16],\n",
                "    'min_samples_split': randint(2, 10),\n",
                "    'min_samples_leaf': randint(1, 4),\n",
                "    'bootstrap': [True, False]\n",
                "};\n",
                "\n",
                "# Se configura la búsqueda en malla con la validación cruzada:\n",
                "grid_search = RandomizedSearchCV(estimator = random_forest, param_distributions = grid_parameters, n_iter = 100, cv = 5, n_jobs = -1, verbose = 1, random_state = 42);\n",
                "\n",
                "# Se ajusta el modelo con los datos de entrenamiento\n",
                "grid_search.fit(X_train, y_train);\n",
                "\n",
                "# Se muestran los mejores hiperparámetros encontrados los mejores hiperparámetros encontrados\n",
                "print(f\"Mejores hiperparámetros: {grid_search.best_params_}\");\n",
                "\n",
                "# Se evalúa el mejor modelo:\n",
                "best_random_forest = grid_search.best_estimator_;\n",
                "\n",
                "# Se obtiene la predicción para el conjunto de train:\n",
                "y_hat_train_forest = best_random_forest.predict(X_train);\n",
                "\n",
                "# Se obtiene la predicción para el conjunto de test:\n",
                "y_hat_test_forest = best_random_forest.predict(X_test);\n",
                "\n",
                "# Se obtienen las métricas:\n",
                "get_metrics (y_train, y_test, y_hat_train_forest, y_hat_test_forest)"
            ]
        }
    ],
    "metadata": {
        "kernelspec": {
            "display_name": "Python 3",
            "language": "python",
            "name": "python3"
        },
        "language_info": {
            "codemirror_mode": {
                "name": "ipython",
                "version": 3
            },
            "file_extension": ".py",
            "mimetype": "text/x-python",
            "name": "python",
            "nbconvert_exporter": "python",
            "pygments_lexer": "ipython3",
            "version": "3.10.12"
        },
        "orig_nbformat": 4
    },
    "nbformat": 4,
    "nbformat_minor": 2
}
